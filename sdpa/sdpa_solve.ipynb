{
 "cells": [
  {
   "cell_type": "code",
   "execution_count": 12,
   "metadata": {},
   "outputs": [],
   "source": [
    "import numpy as np\n",
    "from sympy import symbols\n",
    "from contextlib import redirect_stdout\n",
    "import subprocess\n",
    "import matplotlib.pyplot as plt\n",
    "from scipy.signal import find_peaks\n",
    "from pathlib import Path\n",
    "from mpmath import mp"
   ]
  },
  {
   "cell_type": "code",
   "execution_count": 13,
   "metadata": {},
   "outputs": [
    {
     "name": "stdout",
     "output_type": "stream",
     "text": [
      "Mpmath settings:\n",
      "  mp.prec = 300               [default: 53]\n",
      "  mp.dps = 89                 [default: 15]\n",
      "  mp.trap_complex = False     [default: False]\n"
     ]
    }
   ],
   "source": [
    "def flatten(xss):\n",
    "    return [x for xs in xss for x in xs]\n",
    "mp.prec = 300\n",
    "print(mp)"
   ]
  },
  {
   "cell_type": "code",
   "execution_count": 14,
   "metadata": {},
   "outputs": [],
   "source": [
    "K = 16\n",
    "d = 8\n",
    "a = mp.zeros(1, d + 1)\n",
    "# a[2] = mp.mpf('1')\n",
    "# a[0], a[2], a[4] = mp.mpf('1.25'), mp.mpf('-1'), mp.mpf('0.2')\n",
    "# a[2], a[4], a[8] = mp.mpf('0.5'), mp.mpf('-1'), mp.mpf('0.125')"
   ]
  },
  {
   "cell_type": "code",
   "execution_count": 15,
   "metadata": {},
   "outputs": [],
   "source": [
    "def genF(energy, shift, E):\n",
    "    Fmats = [mp.zeros(K) for _ in range(d)] + [mp.eye(K)]\n",
    "    for i in range(K):\n",
    "        for j in range(K):\n",
    "            term = vars[i + j + shift].subs([(E, energy)])\n",
    "            for k in range(d):\n",
    "                Fmats[k][i, j] = term.coeff(vars[k])\n",
    "                if k == 0:\n",
    "                    Fmats[k][i, j] *= -1\n",
    "            \n",
    "    return Fmats\n",
    "\n",
    "def create_input(energy, E, shift, file):\n",
    "    with redirect_stdout(file):\n",
    "        print(f'*Energy: {energy}')\n",
    "        print(d) # mDIM\n",
    "        print(1) # nBLOCK\n",
    "        print(K) # bLOCKsTRUCT\n",
    "        c = np.zeros(d)\n",
    "        c[-1] = 1\n",
    "        print(*c)\n",
    "        Fmats = genF(energy, shift, E)\n",
    "        for Fmat in Fmats:\n",
    "            # print(*Fmat.reshape(-1))\n",
    "            print(*flatten(Fmat.tolist()))\n",
    "\n",
    "def solve(shift, E):\n",
    "    num = 500\n",
    "    Es = mp.linspace('0', '10', num)\n",
    "    ts = mp.zeros(1, num)\n",
    "    # ini_file = Path('aho.ini')\n",
    "    # if ini_file.exists():\n",
    "    #     ini_file.unlink()\n",
    "    with open('status.log','w') as logfile:\n",
    "        for i in range(num):\n",
    "            with open('aho.dat','w') as f:\n",
    "                create_input(Es[i], E, shift, f)\n",
    "            args = ['sdpa_gmp','aho.dat','aho.result']\n",
    "            # if ini_file.exists():\n",
    "            #     args.append(ini_file.name)\n",
    "            subprocess.run(args, stdout=subprocess.DEVNULL)\n",
    "            with open('aho.result','r') as f:\n",
    "                lines = f.readlines()\n",
    "                for line in lines:\n",
    "                    if line.startswith('phase.value'):\n",
    "                        status = line.split(' ')[2]\n",
    "                        if status != 'pdOPT':\n",
    "                            logfile.write(status + f' Energy: {Es[i]}' + '\\n')\n",
    "                    if line.startswith('objValPrimal'):\n",
    "                        # t = float(line.split(' ')[2])\n",
    "                        t = mp.mpf(line.split(' ')[2])\n",
    "                        ts[i] = mp.log(mp.fabs(t))\n",
    "                        break\n",
    "                # if i == 0:\n",
    "                #     p1 = lines.index('xVec = \\n') + 1\n",
    "                #     p2 = lines.index('xMat = \\n') + 2\n",
    "                #     p3 = lines.index('yMat = \\n') + 2\n",
    "                #     p4 = len(lines) - 4\n",
    "                #     xVec = lines[p1][:-1]\n",
    "                #     xMat = ''.join([lines[i][:-1] for i in range(p2, p3 - 3)])\n",
    "                #     yMat = ''.join([lines[i][:-1] for i in range(p3, p4)])\n",
    "                #     with open('aho.ini', 'w') as inif:\n",
    "                #         with redirect_stdout(inif):\n",
    "                #             print(xVec)\n",
    "                #             print(xMat)\n",
    "                #             print(yMat)\n",
    "    np.savez(f'./data/ho_K_{K}_shift_{shift}',Es=Es,ts=ts)"
   ]
  },
  {
   "cell_type": "code",
   "execution_count": 23,
   "metadata": {},
   "outputs": [],
   "source": [
    "vars = [symbols(f'x_{i}') for i in range(d)]\n",
    "# note that x_0 = 1\n",
    "E = symbols('E')\n",
    "m = 0\n",
    "lim = 5 * K\n",
    "while d + m <= lim:\n",
    "    t = (mp.mpf(4 * (m+1)) / (2 * a[d] * (d + 2 * m + 2))) * E * vars[m]\n",
    "    if m >= 2:\n",
    "        t = t + (mp.mpf(m * (m * m - 1)) / (2 * a[d] * (d + 2 * m + 2))) * vars[m - 2]\n",
    "    for n in range(0, d):\n",
    "        t = t - (mp.mpf(2 * (n + 2 * m + 2) * a[n]) / (2 * a[d] * (d + 2 * m + 2))) * vars[n + m]\n",
    "    # t = t / (2 * a[d] * (d + 2 * m + 2))\n",
    "    vars.append(t.simplify())\n",
    "    m += 1"
   ]
  },
  {
   "cell_type": "code",
   "execution_count": 17,
   "metadata": {},
   "outputs": [],
   "source": [
    "shifts = [0]\n",
    "for shift in shifts:\n",
    "    solve(shift, E)"
   ]
  },
  {
   "cell_type": "code",
   "execution_count": 18,
   "metadata": {},
   "outputs": [
    {
     "name": "stdout",
     "output_type": "stream",
     "text": [
      "[mpf('1.0020040080160320641282565130260521042084168336673346693386773547094188376753507014028056106')\n",
      " mpf('3.0060120240480961923847695390781563126252505010020040080160320641282565130260521042084168328')\n",
      " mpf('4.9498997995991983967935871743486973947895791583166332665330661322645290581162324649298597162')\n",
      " mpf('5.1302605210420841683366733466933867735470941883767535070140280561122244488977955911823647277')\n",
      " mpf('6.5731462925851703406813627254509018036072144288577154308617234468937875751503006012024048082')\n",
      " mpf('7.8957915831663326653306613226452905811623246492985971943887775551102204408817635270541082131')]\n"
     ]
    },
    {
     "data": {
      "image/png": "[encoded data removed]",
      "text/plain": [
       "<Figure size 640x480 with 1 Axes>"
      ]
     },
     "metadata": {},
     "output_type": "display_data"
    }
   ],
   "source": [
    "shifts = [0]\n",
    "fig, ax = plt.subplots()\n",
    "# ax.set_title('log(|t|) vs E with varying shifts')\n",
    "ax.set_title('Double well energy spectrum')\n",
    "ax.set_xlabel('E')\n",
    "ax.set_ylabel('log(|t|)')\n",
    "for shift in shifts:\n",
    "    data = np.load(f'./data/ho_K_{K}_shift_{shift}.npz',allow_pickle=True)\n",
    "    dips = data['Es'][find_peaks(-data['ts'],prominence=1)[0]]\n",
    "    print(dips)\n",
    "    for dip in dips:\n",
    "        plt.axvline(x=dip,ls='--',c='grey',alpha=0.7,zorder=-2)\n",
    "    ax.plot(data['Es'], data['ts'], label=f'(K, S) = {(K, shift)}')\n",
    "    # ax.plot(data['Es'], data['ts'], label=f'K = {K}')\n",
    "ax.legend()\n",
    "ax.grid()\n",
    "# ax.set_xlim(1.8,2.1)\n",
    "plt.show()"
   ]
  },
  {
   "cell_type": "code",
   "execution_count": 19,
   "metadata": {},
   "outputs": [],
   "source": [
    "# def create_shift_plot(shifts):\n",
    "#     fig, ax = plt.subplots()\n",
    "#     # ax.set_title('log(|t|) vs E with varying shifts')\n",
    "#     ax.set_title('Anharmonic oscillator energy spectrum')\n",
    "#     ax.set_xlabel('E')\n",
    "#     ax.set_ylabel('log(|t|)')\n",
    "#     for shift in shifts:\n",
    "#         data = np.load(f'./data/aho_K_{K}_shift_{shift}.npz')\n",
    "#         dips = data['Es'][find_peaks(-data['ts'],prominence=1)[0]]\n",
    "#         print(dips)\n",
    "#         for dip in dips:\n",
    "#             plt.axvline(x=dip,ls='--',c='grey',alpha=0.7,zorder=-2)\n",
    "#         # ax.plot(data['Es'], data['ts'], label=f'(K, S) = {(K, shift)}')\n",
    "#         ax.plot(data['Es'], data['ts'], label=f'K = {K}')\n",
    "#     ax.legend()\n",
    "#     ax.grid()\n",
    "#     return fig, ax"
   ]
  },
  {
   "cell_type": "code",
   "execution_count": 20,
   "metadata": {},
   "outputs": [],
   "source": [
    "# shifts = [0]\n",
    "# fig, ax = create_shift_plot(shifts)\n",
    "# plt.show()"
   ]
  },
  {
   "cell_type": "code",
   "execution_count": 21,
   "metadata": {},
   "outputs": [],
   "source": [
    "# Ks = [16, 18]\n",
    "# fig, ax = plt.subplots()\n",
    "# ax.set_title('Anharmonic oscillator energy spectrum')\n",
    "# ax.set_xlabel('E')\n",
    "# ax.set_ylabel('log(|t|)')\n",
    "# for K in Ks:\n",
    "#     data = np.load(f'./data/aho_K_{K}_shift_{0}.npz')\n",
    "#     if K == max(Ks):\n",
    "#         dips = data['Es'][find_peaks(-data['ts'],prominence=1)[0]]\n",
    "#         print(dips)\n",
    "#         for dip in dips:\n",
    "#             plt.axvline(x=dip,ls='--',c='grey',alpha=0.7,zorder=-2)\n",
    "#     ax.plot(data['Es'], data['ts'], label=f'K = {K}')\n",
    "# ax.legend()\n",
    "# ax.grid()\n",
    "# plt.show()"
   ]
  },
  {
   "cell_type": "code",
   "execution_count": 22,
   "metadata": {},
   "outputs": [],
   "source": [
    "# plt.plot(Es, ts, label=f'K = {K}')\n",
    "# dips = Es[find_peaks(-ts,prominence=0.1)[0]]\n",
    "# print(dips)\n",
    "# for dip in dips:\n",
    "#     plt.axvline(x=dip,ls='--',c='grey',alpha=0.7,zorder=-2)\n",
    "# plt.title('log(|t|) vs E')\n",
    "# plt.xlabel('E')\n",
    "# plt.ylabel('log(|t|)')\n",
    "# plt.legend()\n",
    "# plt.grid()\n",
    "# plt.show()"
   ]
  }
 ],
 "metadata": {
  "kernelspec": {
   "display_name": ".venv",
   "language": "python",
   "name": "python3"
  },
  "language_info": {
   "codemirror_mode": {
    "name": "ipython",
    "version": 3
   },
   "file_extension": ".py",
   "mimetype": "text/x-python",
   "name": "python",
   "nbconvert_exporter": "python",
   "pygments_lexer": "ipython3",
   "version": "3.10.12"
  }
 },
 "nbformat": 4,
 "nbformat_minor": 2
}
