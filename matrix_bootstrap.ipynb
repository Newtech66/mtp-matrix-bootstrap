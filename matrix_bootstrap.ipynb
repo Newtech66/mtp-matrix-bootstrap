{
 "cells": [
  {
   "cell_type": "code",
   "execution_count": 1,
   "metadata": {},
   "outputs": [],
   "source": [
    "import cvxpy as cp\n",
    "import numpy as np\n",
    "import scipy as sp\n",
    "import matplotlib.pyplot as plt"
   ]
  },
  {
   "cell_type": "code",
   "execution_count": 2,
   "metadata": {},
   "outputs": [],
   "source": [
    "class Word:\n",
    "    def __init__(self, word: str):\n",
    "        self._word = word\n",
    "    def __repr__(self):\n",
    "        return repr(self._word)\n",
    "    def H(self):\n",
    "        return Word(self._word[::-1])\n",
    "    def __hash__(self):\n",
    "        return hash(self._word)\n",
    "    def __eq__(self, other):\n",
    "        if not isinstance(other, Word):\n",
    "            return False\n",
    "        return self._word == other._word\n",
    "\n",
    "class TraceOp:\n",
    "    def __init__(self, word: Word):\n",
    "        self._word = word\n",
    "        self._expval = cp.Variable(1, str(self._word), complex=True)\n",
    "    def __hash__(self):\n",
    "        return hash(self._word)\n",
    "    def ev(self):\n",
    "        return self._expval\n",
    "    def conjev(self):\n",
    "        return cp.conj(self._expval)\n",
    "    def __eq__(self, other):\n",
    "        if not isinstance(other, TraceOp):\n",
    "            return False\n",
    "        return self._word == other._word\n",
    "\n",
    "TOcache = dict()\n",
    "\n",
    "def trace_op(word: Word|str):\n",
    "    if isinstance(word, str):\n",
    "        word = Word(word)\n",
    "    if word not in TOcache:\n",
    "        TOcache[word] = TraceOp(word)\n",
    "    return TOcache[word]\n",
    "\n",
    "def commutator(word1: str, word2: str):\n",
    "    expression = []\n",
    "    for i in range(len(word1)):\n",
    "        for j in range(len(word2)):\n",
    "            # 1 2 2 1\n",
    "            word = word1[:i] + word2[:j] + word2[j+1:] + word1[i+1:]\n",
    "            if word1[i] == 'x' and word2[j] == 'p':\n",
    "                expression.append('+' + word)\n",
    "            elif word1[i] == 'p' and word2[j] == 'x':\n",
    "                expression.append('-' + word)\n",
    "    return expression\n",
    "\n",
    "# def commutator(word1: str, word2: str):\n",
    "#     expression = []\n",
    "#     if len(word1) == 1 and len(word2) == 1:\n",
    "#         if word1 == 'x' and word2 == 'p':\n",
    "#             expression.append('+')\n",
    "#         elif word1 == 'p' and word2 == 'x':\n",
    "#             expression.append('-')\n",
    "#     elif len(word1) == 1:\n",
    "#         terms1 = commutator(word1, word2[1:])\n",
    "#         terms2 = commutator(word1, word2[0])\n",
    "#         for term in terms1:\n",
    "#             expression.append(term[0] + word2[0] + term[1:])\n",
    "#         for term in terms2:\n",
    "#             expression.append(term[0] + term[1:] + word2[1:])\n",
    "#     else:\n",
    "#         terms1 = commutator(word1[1:], word2)\n",
    "#         terms2 = commutator(word1[0], word2)\n",
    "#         for term in terms1:\n",
    "#             expression.append(term[0] + word1[0] + term[1:])\n",
    "#         for term in terms2:\n",
    "#             expression.append(term[0] + term[1:] + word1[1:])\n",
    "#     return expression"
   ]
  },
  {
   "cell_type": "code",
   "execution_count": 3,
   "metadata": {},
   "outputs": [],
   "source": [
    "def normalization():\n",
    "    return [trace_op('').ev() == 1]\n",
    "\n",
    "def moment_matrix(op_basis, L):\n",
    "    ops = [op\n",
    "           for i in range(L//2 + 1)\n",
    "           for op in op_basis[i]]\n",
    "    n = len(ops)\n",
    "    M = cp.bmat([[trace_op(ops[i][::-1] + ops[j]).ev() for j in range(n)] for i in range(n)])\n",
    "    return [M >> 0]\n",
    "\n",
    "def symmetry_constraint(G: list, word: str):\n",
    "    return [sum(coeff * trace_op(w + word).ev() for coeff, w in G) == 0]\n",
    "\n",
    "def schwinger_dyson(hamil: list, word: str):\n",
    "    expression = 0\n",
    "    for coeff, w in hamil:\n",
    "        terms = commutator(w, word)\n",
    "        for term in terms:\n",
    "            if term[0] == '+':\n",
    "                expression = expression + coeff * trace_op(term[1:]).ev()\n",
    "            else:\n",
    "                expression = expression - coeff * trace_op(term[1:]).ev()\n",
    "    return [expression == 0]\n",
    "\n",
    "def reality(word: str):\n",
    "    return [trace_op(word[::-1]).ev() == trace_op(word).conjev()]\n",
    "\n",
    "def trace_cyclicity(word: str):\n",
    "    word1 = word\n",
    "    word2 = word[1:] + word[0]\n",
    "    expression = trace_op(word2).ev()\n",
    "    for i in range(1, len(word1)):\n",
    "        if word[0] == 'x' and word[i] == 'p':\n",
    "            expression = expression + 1j * trace_op(word[1:i]).ev() * trace_op(word[i+1:]).ev()\n",
    "        elif word[1] == 'p' and word[i] == 'x':\n",
    "            expression = expression - 1j * trace_op(word[1:i]).ev() * trace_op(word[i+1:]).ev()\n",
    "    return [trace_op(word1) == expression]"
   ]
  },
  {
   "cell_type": "code",
   "execution_count": 16,
   "metadata": {},
   "outputs": [],
   "source": [
    "from itertools import product\n",
    "G = [(1j, 'xp'), (-1j, 'px'), (1, '')]\n",
    "L = 6\n",
    "op_basis = [[] for _ in range(L + 1)]\n",
    "basis = ['x','p']\n",
    "for l,v in enumerate(op_basis):\n",
    "    v.extend(''.join(s) for s in product(basis,repeat=l))"
   ]
  },
  {
   "cell_type": "code",
   "execution_count": 17,
   "metadata": {},
   "outputs": [],
   "source": [
    "constraints = []\n",
    "constraints.extend(normalization())\n",
    "constraints.extend(moment_matrix(op_basis, L))\n",
    "for i in range(L - 1):\n",
    "    for word in op_basis[i]:\n",
    "        constraints.extend(symmetry_constraint(G, word))\n",
    "for i in range(L + 1):\n",
    "    for word in op_basis[i]:\n",
    "        constraints.extend(reality(word))"
   ]
  },
  {
   "cell_type": "code",
   "execution_count": 14,
   "metadata": {},
   "outputs": [
    {
     "name": "stdout",
     "output_type": "stream",
     "text": [
      "Solving for g=0.0:\n"
     ]
    },
    {
     "name": "stderr",
     "output_type": "stream",
     "text": [
      "/home/mainak/mtp/my-work/.venv/lib/python3.10/site-packages/cvxpy/problems/problem.py:164: UserWarning: Constraint #2 contains too many subexpressions. Consider vectorizing your CVXPY code to speed up compilation.\n",
      "  warnings.warn(f\"Constraint #{i} contains too many subexpressions. \"\n"
     ]
    },
    {
     "name": "stdout",
     "output_type": "stream",
     "text": [
      "\tE_min = 1.0010824681787895\n",
      "Solving for g=0.4444444444444444:\n",
      "\tE_min = 1.2207487463303497\n",
      "Solving for g=0.8888888888888888:\n",
      "\tE_min = 1.3614961407666963\n",
      "Solving for g=1.3333333333333333:\n",
      "\tE_min = 1.4714788696747503\n",
      "Solving for g=1.7777777777777777:\n",
      "\tE_min = 1.570087566447234\n",
      "Solving for g=2.2222222222222223:\n",
      "\tE_min = 1.6465479760574824\n",
      "Solving for g=2.6666666666666665:\n",
      "\tE_min = 1.7110697475478465\n",
      "Solving for g=3.1111111111111107:\n",
      "\tE_min = 1.7760548464686237\n",
      "Solving for g=3.5555555555555554:\n",
      "\tE_min = 1.8367604568067295\n",
      "Solving for g=4.0:\n",
      "\tE_min = 1.8917438589564992\n"
     ]
    }
   ],
   "source": [
    "gs = np.linspace(0,4,num=10)\n",
    "mins = []\n",
    "\n",
    "for g in gs:\n",
    "    hamil = [(1, 'pp'), (1, 'xx'), (g, 'xxxx')]\n",
    "    hamil_constraints = []\n",
    "    for i in range(L - 1):\n",
    "        for word in op_basis[i]:\n",
    "            hamil_constraints.extend(schwinger_dyson(hamil, word))\n",
    "    total_constraints = constraints + hamil_constraints\n",
    "    minobj = cp.Minimize(cp.real(sum(coeff * trace_op(w).ev() for coeff, w in hamil)))\n",
    "    minprob = cp.Problem(minobj, total_constraints)\n",
    "    print(f'Solving for g={g}:')\n",
    "    mins.append(minprob.solve(solver=cp.SCS))\n",
    "    print(f'\\tE_min = {mins[-1]}')"
   ]
  },
  {
   "cell_type": "code",
   "execution_count": 15,
   "metadata": {},
   "outputs": [
    {
     "data": {
      "image/png": "[encoded data removed]",
      "text/plain": [
       "<Figure size 640x480 with 1 Axes>"
      ]
     },
     "metadata": {},
     "output_type": "display_data"
    }
   ],
   "source": [
    "plt.plot(gs, mins, c='blue')\n",
    "plt.scatter(gs, mins, c='red', s=10, label='mins')\n",
    "plt.xlabel('g')\n",
    "plt.ylabel('E_0/N^2')\n",
    "plt.legend()\n",
    "plt.grid()\n",
    "plt.show()"
   ]
  },
  {
   "cell_type": "code",
   "execution_count": 18,
   "metadata": {},
   "outputs": [
    {
     "name": "stdout",
     "output_type": "stream",
     "text": [
      "Solving for g=0.0:\n",
      "\tE_min = 1.0000031214029108\n",
      "Solving for g=0.4444444444444444:\n",
      "\tE_min = 1.095449909028415\n",
      "Solving for g=0.8888888888888888:\n",
      "\tE_min = 1.1701717214724843\n",
      "Solving for g=1.3333333333333333:\n",
      "\tE_min = 1.2370431672274969\n",
      "Solving for g=1.7777777777777777:\n",
      "\tE_min = 1.2912449921437061\n",
      "Solving for g=2.2222222222222223:\n",
      "\tE_min = 1.3407362147186836\n",
      "Solving for g=2.6666666666666665:\n"
     ]
    },
    {
     "name": "stderr",
     "output_type": "stream",
     "text": [
      "/home/mainak/mtp/my-work/.venv/lib/python3.10/site-packages/cvxpy/problems/problem.py:1407: UserWarning: Solution may be inaccurate. Try another solver, adjusting the solver settings, or solve with verbose=True for more information.\n",
      "  warnings.warn(\n"
     ]
    },
    {
     "name": "stdout",
     "output_type": "stream",
     "text": [
      "\tE_min = 1.3747967836817379\n",
      "Solving for g=3.1111111111111107:\n",
      "\tE_min = 1.4190188443124323\n",
      "Solving for g=3.5555555555555554:\n",
      "\tE_min = 1.4587292876467\n",
      "Solving for g=4.0:\n",
      "\tE_min = 1.4958826967702472\n"
     ]
    }
   ],
   "source": [
    "gs = np.linspace(0,4,num=10)\n",
    "mins = []\n",
    "\n",
    "for g in gs:\n",
    "    hamil = [(1, 'pp'), (1, 'xx'), (g, 'xxxx')]\n",
    "    hamil_constraints = []\n",
    "    for i in range(L - 1):\n",
    "        for word in op_basis[i]:\n",
    "            hamil_constraints.extend(schwinger_dyson(hamil, word))\n",
    "    total_constraints = constraints + hamil_constraints\n",
    "    minobj = cp.Minimize(cp.real(sum(coeff * trace_op(w).ev() for coeff, w in hamil)))\n",
    "    minprob = cp.Problem(minobj, total_constraints)\n",
    "    print(f'Solving for g={g}:')\n",
    "    mins.append(minprob.solve(solver=cp.SCS))\n",
    "    print(f'\\tE_min = {mins[-1]}')"
   ]
  },
  {
   "cell_type": "code",
   "execution_count": 19,
   "metadata": {},
   "outputs": [
    {
     "data": {
      "image/png": "[encoded data removed]",
      "text/plain": [
       "<Figure size 640x480 with 1 Axes>"
      ]
     },
     "metadata": {},
     "output_type": "display_data"
    }
   ],
   "source": [
    "plt.plot(gs, mins, c='blue')\n",
    "plt.scatter(gs, mins, c='red', s=10, label='mins')\n",
    "plt.xlabel('g')\n",
    "plt.ylabel('E_0/N^2')\n",
    "plt.legend()\n",
    "plt.grid()\n",
    "plt.show()"
   ]
  }
 ],
 "metadata": {
  "kernelspec": {
   "display_name": ".venv",
   "language": "python",
   "name": "python3"
  },
  "language_info": {
   "codemirror_mode": {
    "name": "ipython",
    "version": 3
   },
   "file_extension": ".py",
   "mimetype": "text/x-python",
   "name": "python",
   "nbconvert_exporter": "python",
   "pygments_lexer": "ipython3",
   "version": "3.10.12"
  }
 },
 "nbformat": 4,
 "nbformat_minor": 2
}
