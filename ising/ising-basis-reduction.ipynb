{
 "cells": [
  {
   "cell_type": "code",
   "execution_count": 1,
   "id": "a798c2a1",
   "metadata": {},
   "outputs": [],
   "source": [
    "from collections import Counter\n",
    "\n",
    "from pauli import SiteBasis, PauliSum, PauliString\n",
    "from hamiltonians import transverse_field_ising_model, xyz_model\n",
    "\n",
    "import picos as pc\n",
    "import numpy as np\n",
    "import seaborn as sns\n",
    "from scipy.linalg import null_space, eigvalsh\n",
    "from scipy.special import ellipeinc\n",
    "from scipy.sparse import csr_array\n",
    "from scipy.sparse.csgraph import connected_components\n",
    "import matplotlib.pyplot as plt\n",
    "\n",
    "%load_ext line_profiler"
   ]
  },
  {
   "cell_type": "code",
   "execution_count": 2,
   "id": "0d92362c",
   "metadata": {},
   "outputs": [],
   "source": [
    "def schwinger_dyson(hamil: PauliSum, word1: str) -> PauliSum:\n",
    "    return hamil | PauliSum(word1)\n",
    "\n",
    "def izxy_correspondence(word1: str) -> PauliSum:\n",
    "    # Even count of X and Y\n",
    "    mapping = {'I': 'Z', 'Z': 'I', 'X': 'Y', 'Y': 'X'}\n",
    "    word2 = ''.join(mapping[c] for c in word1)\n",
    "    return PauliSum({word1: 1.0j, word2: -1j * (-1j) ** ((word1.count('X') + word1.count('Y')) % 4)})\n",
    "\n",
    "def beta_independent_constraints(basis: SiteBasis, hamil: PauliSum, use_izxy: bool = False) -> np.ndarray:\n",
    "    # We handle normalization separately\n",
    "    n_cols = basis.size() - 1\n",
    "    A = np.zeros((n_cols, n_cols), dtype=complex)\n",
    "    for i, word in enumerate(basis._ops[1:]):\n",
    "        psum = schwinger_dyson(hamil, word)\n",
    "        if psum.is_zero():\n",
    "            continue\n",
    "        for pstr, weight in psum.terms.items():\n",
    "            A[i, basis.rank(str(pstr)) - 1] += weight\n",
    "    if use_izxy:\n",
    "        for i, word in enumerate(basis._ops[1:]):\n",
    "            if word.count('X') % 2 != 0 or word.count('Y') % 2 != 0:\n",
    "                continue\n",
    "            psum = izxy_correspondence(word)\n",
    "            for pstr, weight in psum.terms.items():\n",
    "                A[i, basis.rank(str(pstr)) - 1] += weight\n",
    "    return 1j * A"
   ]
  },
  {
   "cell_type": "code",
   "execution_count": 3,
   "id": "b4e44b14",
   "metadata": {},
   "outputs": [],
   "source": [
    "# Now decompose everything\n",
    "def get_bases(L):\n",
    "    basis = SiteBasis(L)\n",
    "    small_basis = SiteBasis(L, use_rot=True, use_reflect=True)\n",
    "    return basis, small_basis\n",
    "\n",
    "def decompose(op: PauliSum, A_ns, small_basis):\n",
    "    res = np.zeros(A_ns.shape[1], dtype=np.complex128)\n",
    "    for pstr, weight in op.terms.items():\n",
    "        res += weight * A_ns[small_basis.rank(str(pstr)) - 1, :]\n",
    "    return res\n",
    "\n",
    "def get_decomp(A_ns, ops, small_basis):\n",
    "    decomp_mats = np.zeros((A_ns.shape[1], len(ops), len(ops)), dtype=np.complex128)\n",
    "    for i, o1 in enumerate(ops):\n",
    "        for j, o2 in enumerate(ops):\n",
    "            if i <= j:\n",
    "                continue\n",
    "            p1 = PauliString(o1)\n",
    "            p2 = PauliString(o2)\n",
    "            p3 = p1 * p2\n",
    "            decomp_mats[:, i, j] += p1.phase(p2) * A_ns[small_basis.rank(str(p3)) - 1, :]\n",
    "    return decomp_mats + decomp_mats.conj().transpose((0, 2, 1))\n",
    "\n",
    "def decompose_sb(op: PauliSum, small_basis):\n",
    "    res = np.zeros(small_basis.size() - 1, dtype=np.complex128)\n",
    "    for pstr, weight in op.terms.items():\n",
    "        res[small_basis.rank(str(pstr)) - 1] += weight\n",
    "    return res\n",
    "\n",
    "def get_decomp_sb(ops, small_basis):\n",
    "    decomp_mats = np.zeros((small_basis.size() - 1, len(ops), len(ops)), dtype=np.complex128)\n",
    "    for i, o1 in enumerate(ops):\n",
    "        for j, o2 in enumerate(ops):\n",
    "            if i <= j:\n",
    "                continue\n",
    "            p1 = PauliString(o1)\n",
    "            p2 = PauliString(o2)\n",
    "            p3 = p1 * p2\n",
    "            decomp_mats[small_basis.rank(str(p3)) - 1, i, j] += p1.phase(p2)\n",
    "    return decomp_mats + decomp_mats.conj().transpose((0, 2, 1))\n",
    "\n",
    "def get_reorder(matrix):\n",
    "    n_cc, labels = connected_components(csr_array(matrix), directed=False)\n",
    "    reord = [y for y, _ in sorted(enumerate(labels), key=lambda x: x[1])]\n",
    "    return n_cc, reord, labels.tolist()"
   ]
  },
  {
   "cell_type": "code",
   "execution_count": 26,
   "id": "519d9df7",
   "metadata": {},
   "outputs": [],
   "source": [
    "def analytical_energy(h):\n",
    "    return (2 * np.abs(1 - h) / np.pi) * ellipeinc(np.pi / 2, -4 * h / (1 - h) ** 2)\n",
    "\n",
    "def dm_energy(L, h):\n",
    "    prob = pc.Problem()\n",
    "    hamil = transverse_field_ising_model(L, h)\n",
    "    H = hamil.to_matrix()\n",
    "    # H = csr_array(hamil.to_matrix())\n",
    "    rho = pc.SymmetricVariable(\"ρ\", H.shape[0])\n",
    "    prob.set_objective(\"min\", pc.trace(rho | H))\n",
    "    prob.add_constraint(pc.trace(rho) == 1)\n",
    "    prob.add_constraint(rho >> 0)\n",
    "    # print(prob)\n",
    "    return prob.solve(), rho\n",
    "\n",
    "def dm_energies(L, hs):\n",
    "    energies = np.zeros_like(hs)\n",
    "    for i, h in enumerate(hs):\n",
    "        # print(f'Solving {h:.4f}...')\n",
    "        energies[i] = -dm_energy(L, h)[0].value / L\n",
    "    return energies\n",
    "\n",
    "def nnz(mat):\n",
    "    return np.count_nonzero(~np.isclose(mat, 0))\n",
    "\n",
    "def get_energy_problem(hamil, small_basis, As, Bs) -> pc.Solution:\n",
    "    prob = pc.Problem()\n",
    "    decomp_hamil = np.real(decompose_sb(hamil, small_basis))\n",
    "    # This is the primal problem\n",
    "    X = pc.HermitianVariable(\"X\", As.shape[1])\n",
    "    Y = pc.HermitianVariable(\"Y\", Bs.shape[1])\n",
    "    prob.set_objective(\"max\", -(pc.trace(X) + pc.trace(Y)))\n",
    "    prob.add_constraint(X >> 0)\n",
    "    prob.add_constraint(Y >> 0)\n",
    "    prob.add_list_of_constraints([(X | As[i]) + (Y | Bs[i]) == decomp_hamil[i] for i in range(As.shape[0])])\n",
    "    return prob\n",
    "\n",
    "def get_energies(L, hs):\n",
    "    small_basis = SiteBasis(L, use_reflect=True, use_rot=True)\n",
    "    hamil = transverse_field_ising_model(L, 1)\n",
    "    A = beta_independent_constraints(small_basis, hamil, use_izxy=True)\n",
    "    A_ns = null_space(A)\n",
    "    # Now build the ops from the sparsity pattern\n",
    "    solve_basis = small_basis\n",
    "    zero_ops = set(np.where(np.all(np.isclose(A_ns, 0), axis=1))[0])\n",
    "    sparsity = np.ones((solve_basis.size(), solve_basis.size()), dtype=np.int8)\n",
    "    for i, o1 in enumerate(solve_basis._ops):\n",
    "        for j, o2 in enumerate(solve_basis._ops):\n",
    "            if i <= j:\n",
    "                continue\n",
    "            if small_basis.rank(str(PauliString(o1) * PauliString(o2))) - 1 in zero_ops:\n",
    "                sparsity[i, j] = sparsity[j, i] = 0\n",
    "    _, reord, labels = get_reorder(sparsity)\n",
    "    label_counts = Counter(labels)\n",
    "    spops1 = np.array(solve_basis._ops)[reord[:label_counts[0]]]\n",
    "    spops2 = np.array(solve_basis._ops)[reord[label_counts[0]:]]\n",
    "    As = get_decomp_sb(spops1, small_basis)\n",
    "    Bs = get_decomp_sb(spops2, small_basis)\n",
    "    energies = np.zeros_like(hs)\n",
    "    # prob = get_energy_problem(transverse_field_ising_model(L, 1), small_basis, As, Bs)\n",
    "    # print(prob)\n",
    "    for i, h in enumerate(hs):\n",
    "        print(f'Solving {h:.4f}...')\n",
    "        hamil = transverse_field_ising_model(L, h)\n",
    "        energies[i] = -get_energy_problem(hamil, small_basis, As, Bs).solve().value / L\n",
    "    return energies"
   ]
  },
  {
   "cell_type": "code",
   "execution_count": null,
   "id": "5972060f",
   "metadata": {},
   "outputs": [
    {
     "name": "stdout",
     "output_type": "stream",
     "text": [
      "Solving 3\n",
      "Solving 0.0000...\n",
      "Solving 0.0202...\n",
      "Solving 0.0404...\n",
      "Solving 0.0606...\n",
      "Solving 0.0808...\n",
      "Solving 0.1010...\n",
      "Solving 0.1212...\n",
      "Solving 0.1414...\n",
      "Solving 0.1616...\n",
      "Solving 0.1818...\n",
      "Solving 0.2020...\n",
      "Solving 0.2222...\n",
      "Solving 0.2424...\n",
      "Solving 0.2626...\n",
      "Solving 0.2828...\n",
      "Solving 0.3030...\n",
      "Solving 0.3232...\n",
      "Solving 0.3434...\n",
      "Solving 0.3636...\n",
      "Solving 0.3838...\n",
      "Solving 0.4040...\n",
      "Solving 0.4242...\n",
      "Solving 0.4444...\n",
      "Solving 0.4646...\n",
      "Solving 0.4848...\n",
      "Solving 0.5051...\n",
      "Solving 0.5253...\n",
      "Solving 0.5455...\n",
      "Solving 0.5657...\n",
      "Solving 0.5859...\n",
      "Solving 0.6061...\n",
      "Solving 0.6263...\n",
      "Solving 0.6465...\n",
      "Solving 0.6667...\n",
      "Solving 0.6869...\n",
      "Solving 0.7071...\n",
      "Solving 0.7273...\n",
      "Solving 0.7475...\n",
      "Solving 0.7677...\n",
      "Solving 0.7879...\n",
      "Solving 0.8081...\n",
      "Solving 0.8283...\n",
      "Solving 0.8485...\n",
      "Solving 0.8687...\n",
      "Solving 0.8889...\n",
      "Solving 0.9091...\n",
      "Solving 0.9293...\n",
      "Solving 0.9495...\n",
      "Solving 0.9697...\n",
      "Solving 0.9899...\n",
      "Solving 1.0101...\n",
      "Solving 1.0303...\n",
      "Solving 1.0505...\n",
      "Solving 1.0707...\n",
      "Solving 1.0909...\n",
      "Solving 1.1111...\n",
      "Solving 1.1313...\n",
      "Solving 1.1515...\n",
      "Solving 1.1717...\n",
      "Solving 1.1919...\n",
      "Solving 1.2121...\n",
      "Solving 1.2323...\n",
      "Solving 1.2525...\n",
      "Solving 1.2727...\n",
      "Solving 1.2929...\n",
      "Solving 1.3131...\n",
      "Solving 1.3333...\n",
      "Solving 1.3535...\n",
      "Solving 1.3737...\n",
      "Solving 1.3939...\n",
      "Solving 1.4141...\n",
      "Solving 1.4343...\n",
      "Solving 1.4545...\n",
      "Solving 1.4747...\n",
      "Solving 1.4949...\n",
      "Solving 1.5152...\n",
      "Solving 1.5354...\n",
      "Solving 1.5556...\n",
      "Solving 1.5758...\n",
      "Solving 1.5960...\n",
      "Solving 1.6162...\n",
      "Solving 1.6364...\n",
      "Solving 1.6566...\n",
      "Solving 1.6768...\n",
      "Solving 1.6970...\n",
      "Solving 1.7172...\n",
      "Solving 1.7374...\n",
      "Solving 1.7576...\n",
      "Solving 1.7778...\n",
      "Solving 1.7980...\n",
      "Solving 1.8182...\n",
      "Solving 1.8384...\n",
      "Solving 1.8586...\n",
      "Solving 1.8788...\n",
      "Solving 1.8990...\n",
      "Solving 1.9192...\n",
      "Solving 1.9394...\n",
      "Solving 1.9596...\n",
      "Solving 1.9798...\n",
      "Solving 2.0000...\n"
     ]
    },
    {
     "data": {
      "image/png": "[encoded data removed]",
      "text/plain": [
       "<Figure size 640x480 with 1 Axes>"
      ]
     },
     "metadata": {},
     "output_type": "display_data"
    }
   ],
   "source": [
    "Ls = [4]\n",
    "hs = np.linspace(0, 2, num=100)\n",
    "aE = analytical_energy(hs)\n",
    "for L in Ls:\n",
    "    print(f'Solving {L}')\n",
    "    plt.plot(hs, 100 * np.abs(get_energies(L, hs) - aE) / aE, label=f'L = {L} (basis)')\n",
    "    plt.plot(hs, 100 * np.abs(dm_energies(L, hs) - aE) / aE, label=f'L = {L} (DM)')\n",
    "plt.axvline(1, linestyle='--', c='black')\n",
    "plt.xlim(0,2)\n",
    "plt.ylabel('Energy percent error')\n",
    "plt.xlabel('Transverse field')\n",
    "plt.legend()\n",
    "plt.show()"
   ]
  },
  {
   "cell_type": "code",
   "execution_count": 41,
   "id": "e86032c8",
   "metadata": {},
   "outputs": [],
   "source": [
    "def tfimgen(n):\n",
    "    gens = set()\n",
    "    xx = \"XX\" + \"I\" * (n - 2)\n",
    "    z = \"Z\" + \"I\" * (n - 1)\n",
    "    for j in range(n):\n",
    "        gens.add(xx[j:] + xx[:j])\n",
    "        gens.add(z[j:] + z[:j])\n",
    "    return list(gens)"
   ]
  },
  {
   "cell_type": "code",
   "execution_count": 230,
   "id": "dc3d62ff",
   "metadata": {},
   "outputs": [],
   "source": [
    "L = 6\n",
    "sol, dm = dm_energy(L, 1)\n",
    "rho = np.array(dm.value)\n",
    "rho_ps = PauliSum.from_matrix(rho)"
   ]
  },
  {
   "cell_type": "code",
   "execution_count": 99,
   "id": "b10aea0d",
   "metadata": {},
   "outputs": [],
   "source": [
    "for op in rho_ps.terms.keys():\n",
    "    if str(op).count('Y') % 2 != 0:\n",
    "        print(op)"
   ]
  },
  {
   "cell_type": "code",
   "execution_count": 43,
   "id": "017dbc19",
   "metadata": {},
   "outputs": [
    {
     "name": "stdout",
     "output_type": "stream",
     "text": [
      "['III', 'IIZ', 'IXX', 'IYY', 'IZI', 'IZZ', 'XIX', 'XXI', 'XXZ', 'XZX', 'YIY', 'YYI', 'YYZ', 'YZY', 'ZII', 'ZIZ', 'ZXX', 'ZYY', 'ZZI', 'ZZZ']\n",
      "set()\n",
      "set()\n"
     ]
    }
   ],
   "source": [
    "g = [PauliString(x) for x in tfimgen(L)]\n",
    "gset = set(g)\n",
    "for a in g:\n",
    "    for b in g:\n",
    "        c = a & b\n",
    "        if c is not None and c not in gset:\n",
    "            gset.add(c)\n",
    "            g.append(c)\n",
    "# print(len(g))\n",
    "# print(SiteBasis(L, True, True).size())\n",
    "cg = [str(x) for x in rho_ps.terms.keys()]\n",
    "g = [str(x) for x in g]\n",
    "g.sort()\n",
    "cg.sort()\n",
    "print(cg)\n",
    "print(set(g) - set(cg))\n",
    "print(set(cg) - set(g))"
   ]
  },
  {
   "cell_type": "code",
   "execution_count": 44,
   "id": "5feac095",
   "metadata": {},
   "outputs": [
    {
     "name": "stdout",
     "output_type": "stream",
     "text": [
      "['III', 'IIZ', 'IZI', 'IZZ', 'IXX', 'IYY', 'ZII', 'ZIZ', 'ZZI', 'ZZZ', 'ZXX', 'ZYY', 'XIX', 'XZX', 'XXI', 'XXZ', 'YIY', 'YZY', 'YYI', 'YYZ']\n"
     ]
    }
   ],
   "source": [
    "print([str(x) for x in rho_ps.terms.keys()])"
   ]
  },
  {
   "cell_type": "code",
   "execution_count": 216,
   "id": "f1ddc3d1",
   "metadata": {},
   "outputs": [
    {
     "name": "stdout",
     "output_type": "stream",
     "text": [
      "(np.complex128(0.125+0j), {'ZZZ', 'III'})\n",
      "(np.complex128(0.08333+0j), {'IIZ', 'IZZ', 'IXX'})\n",
      "(np.complex128(-0.04167+0j), {'IYY'})\n",
      "(np.complex128(0.04167+0j), {'XXZ'})\n",
      "(np.complex128(-0.08333+0j), {'YYZ'})\n"
     ]
    }
   ],
   "source": [
    "com = {}\n",
    "small_basis = SiteBasis(L, True, True)\n",
    "for pstr, weight in rho_ps.terms.items():\n",
    "    rw = np.round(weight, 5)\n",
    "    pnorm = small_basis.normalize(str(pstr))\n",
    "    if rw in com:\n",
    "        com[rw].add(pnorm)\n",
    "    else:\n",
    "        com[rw] = {pnorm}\n",
    "print(*com.items(),sep='\\n')"
   ]
  },
  {
   "cell_type": "code",
   "execution_count": null,
   "id": "f64a1a65",
   "metadata": {},
   "outputs": [
    {
     "name": "stdout",
     "output_type": "stream",
     "text": [
      "{'XYZXYZ', 'XXXYXY', 'IXYXIY', 'XYXZYZ', 'XZYYYZ', 'IIXYXY', 'IXIZYZ', 'IIXIYZ', 'IXYXYZ', 'IXIXYX', 'XYXYXY', 'IXYXZY', 'IXYZIZ', 'IXYZXY', 'IYXYYZ', 'IIYXZZ', 'IYXYXZ'}\n",
      "147\n",
      "(429, 45)\n"
     ]
    }
   ],
   "source": [
    "small_basis = SiteBasis(L, use_reflect=True, use_rot=True)\n",
    "hamil = transverse_field_ising_model(L, 1)\n",
    "A = beta_independent_constraints(small_basis, hamil, use_izxy=False)\n",
    "A_ns = null_space(A)\n",
    "zero_ops = set(small_basis.unrank(op + 1) for op in np.where(np.all(np.isclose(A_ns, 0), axis=1))[0])\n",
    "nnz_ops = set(small_basis._ops) - zero_ops\n",
    "miss_ops = nnz_ops - set([small_basis.normalize(str(op)) for op in rho_ps.terms.keys()])\n",
    "miss_ops_izxy = set()\n",
    "for op in miss_ops:\n",
    "    mapping = {'I': 'Z', 'Z': 'I', 'X': 'Y', 'Y': 'X'}\n",
    "    izxy_dual = lambda word1: ''.join(mapping[c] for c in word1)\n",
    "    if small_basis.normalize(op) in miss_ops_izxy or small_basis.normalize(izxy_dual(op)) in miss_ops_izxy:\n",
    "        continue\n",
    "    miss_ops_izxy.add(op)\n",
    "print(miss_ops_izxy)\n",
    "print(len(nnz_ops))\n",
    "print(A_ns.shape)"
   ]
  },
  {
   "cell_type": "code",
   "execution_count": null,
   "id": "be42e2c7",
   "metadata": {},
   "outputs": [
    {
     "name": "stdout",
     "output_type": "stream",
     "text": [
      "706\n",
      "(1299, 39)\n"
     ]
    }
   ],
   "source": [
    "small_basis = SiteBasis(L, use_reflect=True, use_rot=True)\n",
    "hamil = transverse_field_ising_model(L, 1)\n",
    "A = beta_independent_constraints(small_basis, hamil, use_izxy=True)\n",
    "A_ns = null_space(A)\n",
    "zero_ops = set(small_basis.unrank(op + 1) for op in np.where(np.all(np.isclose(A_ns, 0), axis=1))[0])\n",
    "nnz_ops = set(small_basis._ops) - zero_ops\n",
    "print(len(nnz_ops))\n",
    "print(A_ns.shape)"
   ]
  },
  {
   "cell_type": "code",
   "execution_count": 48,
   "id": "f51371c6",
   "metadata": {},
   "outputs": [
    {
     "name": "stdout",
     "output_type": "stream",
     "text": [
      "5\n"
     ]
    }
   ],
   "source": [
    "indicator = ~np.isclose(rho, 0)\n",
    "n_cc, reord, labels = get_reorder(indicator)\n",
    "print(n_cc)\n",
    "reord_rho = rho[:, reord][reord, :]\n",
    "reord_rho_ps=PauliSum.from_matrix(reord_rho)"
   ]
  },
  {
   "cell_type": "code",
   "execution_count": 49,
   "id": "3813bcb9",
   "metadata": {},
   "outputs": [
    {
     "name": "stdout",
     "output_type": "stream",
     "text": [
      "8\n",
      "20\n",
      "{'ZZZ', 'IIZ', 'IXX', 'YYZ', 'IYY', 'XXZ', 'IZZ', 'III'}\n"
     ]
    }
   ],
   "source": [
    "small_basis = SiteBasis(L, True, True)\n",
    "smod = set([small_basis.normalize(str(op)) for op in rho_ps.terms.keys()])\n",
    "print(len(smod))\n",
    "print(len(rho_ps.terms))\n",
    "print(smod)"
   ]
  },
  {
   "cell_type": "code",
   "execution_count": 50,
   "id": "ec5b7c70",
   "metadata": {},
   "outputs": [
    {
     "data": {
      "image/png": "[encoded data removed]",
      "text/plain": [
       "<Figure size 640x480 with 2 Axes>"
      ]
     },
     "metadata": {},
     "output_type": "display_data"
    }
   ],
   "source": [
    "sns.heatmap(np.log(reord_rho + 1e-12), xticklabels=False, yticklabels=False)\n",
    "plt.title(r'$\\log(ρ_{ij} + 10^{-12})$ for L=6')\n",
    "plt.xlabel(r'$j$')\n",
    "plt.ylabel(r'$i$')\n",
    "plt.show()"
   ]
  },
  {
   "cell_type": "code",
   "execution_count": 51,
   "id": "57cf5ba4",
   "metadata": {},
   "outputs": [
    {
     "data": {
      "image/png": "[encoded data removed]",
      "text/plain": [
       "<Figure size 640x480 with 2 Axes>"
      ]
     },
     "metadata": {},
     "output_type": "display_data"
    }
   ],
   "source": [
    "sns.heatmap(np.log(rho + 1e-12), xticklabels=False, yticklabels=False)\n",
    "plt.title(r'$\\log(ρ_{ij} + 10^{-12})$ for L=6')\n",
    "plt.xlabel(r'$j$')\n",
    "plt.ylabel(r'$i$')\n",
    "plt.show()"
   ]
  },
  {
   "cell_type": "code",
   "execution_count": null,
   "id": "aba45f20",
   "metadata": {},
   "outputs": [],
   "source": [
    "def dm_tvals(L, h, Es):\n",
    "    tvals = np.zeros_like(Es)\n",
    "    hamil = transverse_field_ising_model(L, h)\n",
    "    prob = pc.Problem()\n",
    "    H = hamil.to_matrix()\n",
    "    rho = pc.SymmetricVariable(\"ρ\", H.shape[0])\n",
    "    x = pc.RealVariable(\"x\", H.shape[0])\n",
    "    prob.set_objective(\"max\", pc.lambda_min(rho))\n",
    "    prob.add_constraint(pc.trace(rho) == 1)\n",
    "    Y = pc.block([[rho, x],\n",
    "                  [x.T, 1.0]])\n",
    "    prob.add_constraint(Y >> 0)\n",
    "    for i, E in enumerate(Es):\n",
    "        print(f'Solving {E:.4f}...')\n",
    "        Econs = (pc.trace(rho * H) == E)\n",
    "        prob.add_constraint(Econs)\n",
    "        if i == 3:\n",
    "            print(prob)\n",
    "        tvals[i] = prob.solve().value\n",
    "        prob.remove_constraint(Econs)\n",
    "    return tvals\n",
    "\n",
    "def dm_tval(L, h, E):\n",
    "    hamil = transverse_field_ising_model(L, h)\n",
    "    H = hamil.to_matrix()\n",
    "    prob = pc.Problem()\n",
    "    rho = pc.SymmetricVariable(\"ρ\", H.shape[0])\n",
    "    prob.set_objective(\"max\", pc.lambda_min(rho))\n",
    "    prob.add_constraint(pc.trace(rho) == 1)\n",
    "    prob.add_constraint(pc.trace(rho * H) == E)\n",
    "    sobj = prob.solve()\n",
    "    return sobj.value, rho"
   ]
  },
  {
   "cell_type": "code",
   "execution_count": null,
   "id": "119362b6",
   "metadata": {},
   "outputs": [
    {
     "data": {
      "text/plain": [
       "array([-3.2321, -3.1458,  0.2321,  0.5   ,  0.5   ,  1.5   ,  1.5   ,\n",
       "        2.1458])"
      ]
     },
     "execution_count": 287,
     "metadata": {},
     "output_type": "execute_result"
    }
   ],
   "source": [
    "L, h = 3, 0.5\n",
    "np.round(eigvalsh(transverse_field_ising_model(L, h).to_matrix()), 4)"
   ]
  },
  {
   "cell_type": "code",
   "execution_count": 293,
   "id": "47c0b73a",
   "metadata": {},
   "outputs": [
    {
     "name": "stdout",
     "output_type": "stream",
     "text": [
      "Solving -3.2000...\n",
      "Solving -3.1576...\n",
      "Solving -3.1152...\n",
      "Solving -3.0727...\n",
      "Optimization Problem\n",
      "  maximize λ_min(ρ)\n",
      "  over\n",
      "    8×1 real variable x\n",
      "    8×8 symmetric variable ρ\n",
      "  subject to\n",
      "    tr(ρ) = 1\n",
      "    [ρ, x; xᵀ, 1] ≽ 0\n",
      "    tr(ρ·[8×8]) = -3.07273\n",
      "Solving -3.0303...\n",
      "Solving -2.9879...\n",
      "Solving -2.9455...\n",
      "Solving -2.9030...\n",
      "Solving -2.8606...\n",
      "Solving -2.8182...\n",
      "Solving -2.7758...\n",
      "Solving -2.7333...\n",
      "Solving -2.6909...\n",
      "Solving -2.6485...\n",
      "Solving -2.6061...\n",
      "Solving -2.5636...\n",
      "Solving -2.5212...\n",
      "Solving -2.4788...\n",
      "Solving -2.4364...\n",
      "Solving -2.3939...\n",
      "Solving -2.3515...\n",
      "Solving -2.3091...\n",
      "Solving -2.2667...\n",
      "Solving -2.2242...\n",
      "Solving -2.1818...\n",
      "Solving -2.1394...\n",
      "Solving -2.0970...\n",
      "Solving -2.0545...\n",
      "Solving -2.0121...\n",
      "Solving -1.9697...\n",
      "Solving -1.9273...\n",
      "Solving -1.8848...\n",
      "Solving -1.8424...\n",
      "Solving -1.8000...\n",
      "Solving -1.7576...\n",
      "Solving -1.7152...\n",
      "Solving -1.6727...\n",
      "Solving -1.6303...\n",
      "Solving -1.5879...\n",
      "Solving -1.5455...\n",
      "Solving -1.5030...\n",
      "Solving -1.4606...\n",
      "Solving -1.4182...\n",
      "Solving -1.3758...\n",
      "Solving -1.3333...\n",
      "Solving -1.2909...\n",
      "Solving -1.2485...\n",
      "Solving -1.2061...\n",
      "Solving -1.1636...\n",
      "Solving -1.1212...\n",
      "Solving -1.0788...\n",
      "Solving -1.0364...\n",
      "Solving -0.9939...\n",
      "Solving -0.9515...\n",
      "Solving -0.9091...\n",
      "Solving -0.8667...\n",
      "Solving -0.8242...\n",
      "Solving -0.7818...\n",
      "Solving -0.7394...\n",
      "Solving -0.6970...\n",
      "Solving -0.6545...\n",
      "Solving -0.6121...\n",
      "Solving -0.5697...\n",
      "Solving -0.5273...\n",
      "Solving -0.4848...\n",
      "Solving -0.4424...\n",
      "Solving -0.4000...\n",
      "Solving -0.3576...\n",
      "Solving -0.3152...\n",
      "Solving -0.2727...\n",
      "Solving -0.2303...\n",
      "Solving -0.1879...\n",
      "Solving -0.1455...\n",
      "Solving -0.1030...\n",
      "Solving -0.0606...\n",
      "Solving -0.0182...\n",
      "Solving 0.0242...\n",
      "Solving 0.0667...\n",
      "Solving 0.1091...\n",
      "Solving 0.1515...\n",
      "Solving 0.1939...\n",
      "Solving 0.2364...\n",
      "Solving 0.2788...\n",
      "Solving 0.3212...\n",
      "Solving 0.3636...\n",
      "Solving 0.4061...\n",
      "Solving 0.4485...\n",
      "Solving 0.4909...\n",
      "Solving 0.5333...\n",
      "Solving 0.5758...\n",
      "Solving 0.6182...\n",
      "Solving 0.6606...\n",
      "Solving 0.7030...\n",
      "Solving 0.7455...\n",
      "Solving 0.7879...\n",
      "Solving 0.8303...\n",
      "Solving 0.8727...\n",
      "Solving 0.9152...\n",
      "Solving 0.9576...\n",
      "Solving 1.0000...\n"
     ]
    }
   ],
   "source": [
    "Es = np.linspace(-3.2, 1, num=100)\n",
    "ts = dm_tvals(L, h, Es)"
   ]
  },
  {
   "cell_type": "code",
   "execution_count": 294,
   "id": "c08f5ac7",
   "metadata": {},
   "outputs": [
    {
     "data": {
      "text/plain": [
       "[<matplotlib.lines.Line2D at 0x2bd03169610>]"
      ]
     },
     "execution_count": 294,
     "metadata": {},
     "output_type": "execute_result"
    },
    {
     "data": {
      "image/png": "[encoded data removed]",
      "text/plain": [
       "<Figure size 640x480 with 1 Axes>"
      ]
     },
     "metadata": {},
     "output_type": "display_data"
    }
   ],
   "source": [
    "plt.plot(Es, np.log(np.abs(ts)))"
   ]
  },
  {
   "cell_type": "code",
   "execution_count": null,
   "id": "27608de5",
   "metadata": {},
   "outputs": [],
   "source": [
    "L, h, E = 8, 0.5, 0\n",
    "t, dm = dm_tval(L, h, E)\n",
    "print(t)"
   ]
  },
  {
   "cell_type": "code",
   "execution_count": 268,
   "id": "de2528a9",
   "metadata": {},
   "outputs": [
    {
     "name": "stdout",
     "output_type": "stream",
     "text": [
      "0.06+0.00j*IIII\n"
     ]
    }
   ],
   "source": [
    "rho = np.array(dm.value)\n",
    "rho_ps = PauliSum.from_matrix(rho)\n",
    "print(rho_ps)"
   ]
  },
  {
   "cell_type": "code",
   "execution_count": 270,
   "id": "01af69e4",
   "metadata": {},
   "outputs": [
    {
     "data": {
      "text/plain": [
       "-6.38469456360371"
      ]
     },
     "execution_count": 270,
     "metadata": {},
     "output_type": "execute_result"
    }
   ],
   "source": [
    "dm_energy(L, h)[0].value"
   ]
  },
  {
   "cell_type": "code",
   "execution_count": null,
   "id": "67156cf0",
   "metadata": {},
   "outputs": [],
   "source": [
    "def spin_chain_rho(hamil: PauliSum):\n",
    "    H = hamil.to_matrix()\n",
    "    prob = pc.Problem()\n",
    "    rho = pc.SymmetricVariable(\"ρ\", H.shape[0])\n",
    "    prob.set_objective(\"min\", pc.trace(rho * H))\n",
    "    prob.add_constraint(pc.trace(rho) == 1)\n",
    "    prob.add_constraint(rho >> 0)\n",
    "    prob.solve()\n",
    "    return np.array(rho.value)"
   ]
  },
  {
   "cell_type": "code",
   "execution_count": 210,
   "id": "321e49b9",
   "metadata": {},
   "outputs": [],
   "source": [
    "L, h = 4, 1\n",
    "rho = spin_chain_rho(xyz_model(L, h))\n",
    "rho_ps = PauliSum.from_matrix(rho)"
   ]
  },
  {
   "cell_type": "code",
   "execution_count": 214,
   "id": "b43e7c1a",
   "metadata": {},
   "outputs": [
    {
     "name": "stdout",
     "output_type": "stream",
     "text": [
      "(np.complex128(0.0625+0j), {'IIII'})\n",
      "(np.complex128(0.04419+0j), {'IIIZ', 'IIIX'})\n",
      "(np.complex128(0.03125+0j), {'IIZZ', 'IXIZ', 'IXIX', 'IIXZ', 'IZIZ', 'IIXX'})\n",
      "(np.complex128(0.0221+0j), {'IXXX', 'IXXZ', 'IZZZ', 'IXZX', 'IZXZ', 'IXZZ'})\n",
      "(np.complex128(0.01563+0j), {'XXXX', 'ZZZZ'})\n",
      "(np.complex128(0.01562+0j), {'XZZZ', 'XZXZ', 'XXZZ', 'XXXZ'})\n"
     ]
    }
   ],
   "source": [
    "com = {}\n",
    "small_basis = SiteBasis(L, use_rot=True, use_reflect=True)\n",
    "for pstr, weight in rho_ps.terms.items():\n",
    "    rw = np.round(weight, 5)\n",
    "    pnorm = small_basis.normalize(str(pstr))\n",
    "    if rw in com:\n",
    "        com[rw].add(pnorm)\n",
    "    else:\n",
    "        com[rw] = {pnorm}\n",
    "print(*com.items(),sep='\\n')"
   ]
  },
  {
   "cell_type": "code",
   "execution_count": null,
   "id": "4bdc8b0a",
   "metadata": {},
   "outputs": [],
   "source": [
    "L = 5\n",
    "hamil = transverse_field_ising_model(L, 1)\n",
    "basis = SiteBasis(L)\n",
    "small_basis = SiteBasis(L, use_reflect=True, use_rot=True)\n",
    "A = np.zeros((basis.size(), basis.size()), dtype=np.complex128)\n",
    "for i, op in enumerate(basis._ops):\n",
    "    p = PauliString(op)\n",
    "    for pstr, weight in hamil.terms.items():\n",
    "        u = p | pstr\n",
    "        if u is not None:\n",
    "            A[i, basis.rank(str(u))] += weight * p.phase(pstr)\n",
    "A_ns = np.real(null_space(1j * A))"
   ]
  },
  {
   "cell_type": "code",
   "execution_count": 411,
   "id": "56cdbdb3",
   "metadata": {},
   "outputs": [
    {
     "name": "stdout",
     "output_type": "stream",
     "text": [
      "108\n",
      "{'IXYZZ', 'IXYZX', 'IXZZY', 'IYXYZ', 'IXYXZ', 'IIIIX', 'IIIYY', 'YZYZZ', 'IYXXY', 'IXYIZ', 'IIXYZ', 'IXXIY', 'IZYZZ', 'YYYZZ', 'XYYYY', 'IYZXZ', 'XZXZZ', 'IXXXX', 'IXIXY', 'IXIXZ', 'IYXXZ', 'IIXIX', 'IYYZZ', 'XXXZZ', 'IXXXZ', 'IYYIZ', 'XYXYZ', 'IZIZZ', 'IXXXY', 'XXYZY', 'XXXYZ', 'IIZZZ', 'IXZXZ', 'IXIYZ', 'IZXZZ', 'IYXZZ', 'XXYYZ', 'XXYZZ', 'IIXIY', 'ZZZZZ', 'IYXYY', 'IIIZZ', 'IXXZY', 'XYZZZ', 'XZYZZ', 'XZYYZ', 'IYIYZ', 'IIIII', 'XYYYZ', 'IIZYZ', 'IXXZZ', 'IXYXY', 'IIXIZ', 'IXYYY', 'IXZIY', 'IZXYZ', 'IXZYZ', 'IIYXZ', 'XYZYZ', 'IIYZY', 'IXXYX', 'YYZZZ', 'XXYXZ', 'XYXYY', 'IXXIZ', 'IIYIY', 'XXXXZ', 'IYZZZ', 'IXZYY', 'YZZZZ', 'IYYYY', 'YYYYZ', 'XXYXY', 'XXZXZ', 'IXZZX', 'IIIIZ', 'IZYYZ', 'IIXZY', 'IIZIZ', 'XYZXZ', 'IIIXZ', 'IXYZY', 'IIYIZ', 'IIYZZ', 'IYZZY', 'IXYYX', 'XYYXZ', 'IIYYY', 'XXXXY', 'IYIYY', 'IXYIY', 'IIXZZ', 'IIXXX', 'IIXXZ', 'XXZZZ', 'IIXYY', 'IZZZZ', 'IYYXZ', 'IYZYZ', 'IYYYZ', 'IXXYY', 'IIIXX', 'IIXZX', 'XYYZY', 'IIYYZ', 'IZXXZ', 'IXIZZ', 'IIIXY'}\n"
     ]
    }
   ],
   "source": [
    "zero_ops_inds = set(np.where(np.all(np.isclose(A_ns, 0), axis=1))[0])\n",
    "zero_ops = set(small_basis.normalize(basis.unrank(i)) for i in zero_ops_inds)\n",
    "nnz_opsf = small_basis._opset - zero_ops\n",
    "# zero_ops = set(basis.unrank(i) for i in zero_ops_inds)\n",
    "# nnz_ops = basis._opset - zero_ops\n",
    "# print(len(zero_ops_inds))\n",
    "# print(zero_ops)\n",
    "print(len(nnz_opsf))\n",
    "print(nnz_opsf)"
   ]
  },
  {
   "cell_type": "code",
   "execution_count": 412,
   "id": "85ae26fb",
   "metadata": {},
   "outputs": [
    {
     "name": "stdout",
     "output_type": "stream",
     "text": [
      "44\n",
      "{'IXZZX', 'IIIIZ', 'IZYYZ', 'IXIXZ', 'IIZIZ', 'IIYZY', 'IIXIX', 'IYYZZ', 'YYZZZ', 'IYZZY', 'IXYYX', 'XYYXZ', 'IYYIZ', 'IIIYY', 'YZYZZ', 'IXXIZ', 'XYXYZ', 'IZIZZ', 'IYXXY', 'XXYZY', 'XXYYZ', 'IIZZZ', 'IXZXZ', 'IIXXZ', 'IIYIY', 'XXXXZ', 'XXZZZ', 'ZZZZZ', 'IZZZZ', 'IYYYY', 'YYYYZ', 'IYZYZ', 'IIIZZ', 'IXXYY', 'IIIXX', 'IYIYZ', 'XZXZZ', 'IIIII', 'IIXZX', 'IXXXX', 'IXXZZ', 'IXYXY', 'IIYYZ', 'IZXXZ'}\n"
     ]
    }
   ],
   "source": [
    "A = beta_independent_constraints(small_basis, hamil, False)\n",
    "A_ns = null_space(A)\n",
    "zero_ops_inds = set(np.where(np.all(np.isclose(A_ns, 0), axis=1))[0])\n",
    "zero_ops = set(small_basis.unrank(i + 1) for i in zero_ops_inds)\n",
    "nnz_ops = small_basis._opset - zero_ops\n",
    "# print(len(zero_ops_inds))\n",
    "# print(zero_ops)\n",
    "print(len(nnz_ops))\n",
    "print(nnz_ops)"
   ]
  }
 ],
 "metadata": {
  "kernelspec": {
   "display_name": ".venv",
   "language": "python",
   "name": "python3"
  },
  "language_info": {
   "codemirror_mode": {
    "name": "ipython",
    "version": 3
   },
   "file_extension": ".py",
   "mimetype": "text/x-python",
   "name": "python",
   "nbconvert_exporter": "python",
   "pygments_lexer": "ipython3",
   "version": "3.12.10"
  }
 },
 "nbformat": 4,
 "nbformat_minor": 5
}
