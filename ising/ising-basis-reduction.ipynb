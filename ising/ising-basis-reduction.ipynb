{
 "cells": [
  {
   "cell_type": "code",
   "execution_count": null,
   "id": "a798c2a1",
   "metadata": {},
   "outputs": [],
   "source": [
    "from collections import Counter\n",
    "from typing import Self\n",
    "import functools as ft\n",
    "import itertools as it\n",
    "\n",
    "from ising.pauli import SiteBasis\n",
    "\n",
    "import picos as pc\n",
    "import numpy as np\n",
    "import seaborn as sns\n",
    "from sympy.matrices import Matrix\n",
    "from scipy.linalg import null_space, eigvalsh\n",
    "from scipy.special import ellipeinc\n",
    "from scipy.sparse import csr_array\n",
    "from scipy.sparse.csgraph import connected_components\n",
    "import matplotlib.pyplot as plt\n",
    "from bitarray import bitarray\n",
    "from bitarray.util import count_and\n",
    "\n",
    "%load_ext line_profiler"
   ]
  },
  {
   "cell_type": "code",
   "execution_count": 2,
   "id": "11803ca9",
   "metadata": {},
   "outputs": [],
   "source": [
    "# An efficient implementation of Pauli string operations (arXiV:2405.19287)\n",
    "# z is bits[::2], x is bits[1::2]\n",
    "\n",
    "class PauliString:\n",
    "    CODEC = {'I': bitarray('00'),\n",
    "             'Z': bitarray('10'),\n",
    "             'X': bitarray('01'),\n",
    "             'Y': bitarray('11'),}\n",
    "    MAT = {'I': np.diag([1, 1]),\n",
    "           'Z': np.diag([1, -1]),\n",
    "           'X': np.fliplr(np.diag([1, 1])),\n",
    "           'Y': np.fliplr(np.diag([-1j, 1j]))}\n",
    "    def __init__(self, label: str | Self = None, bits: bitarray = None):\n",
    "        self.bits = None\n",
    "        self._str = None\n",
    "        if not ((label is None) ^ (bits is None)):\n",
    "            raise ValueError(\"exactly one of label or bits must be provided\")\n",
    "        if bits is None:\n",
    "            if isinstance(label, str):\n",
    "                self.bits = bitarray()\n",
    "                self.bits.encode(self.CODEC, label)\n",
    "                self._str = label\n",
    "            elif isinstance(label, PauliString):\n",
    "                self.bits = label.bits.copy()\n",
    "            else:\n",
    "                raise TypeError(f\"Unsupported type {type(label)}\")\n",
    "        else:\n",
    "            if isinstance(bits, bitarray):\n",
    "                self.bits = bits.copy()\n",
    "            else:\n",
    "                raise TypeError(f\"Unsupported type {type(bits)}\")\n",
    "    \n",
    "    def __hash__(self):\n",
    "        return hash(str(self.bits))\n",
    "\n",
    "    def __repr__(self):\n",
    "        if self._str is None:\n",
    "            self._str = ''.join(self.bits.decode(self.CODEC))\n",
    "        return self._str\n",
    "    \n",
    "    def __eq__(self, other):\n",
    "        \"\"\"Equality of two PauliStrings.\"\"\"\n",
    "        if not isinstance(other, PauliString):\n",
    "            raise TypeError(\"other is not a PauliString\")\n",
    "        return self.bits == other.bits\n",
    "\n",
    "    def __mul__(self, other: Self):\n",
    "        \"\"\"Multiply two PauliStrings.\"\"\"\n",
    "        if not isinstance(other, PauliString):\n",
    "            raise TypeError(\"other is not a PauliString\")\n",
    "        return self.multiply(other)\n",
    "\n",
    "    def __or__(self, other: Self):\n",
    "        \"\"\"Commutator of two PauliStrings.\"\"\"\n",
    "        if not isinstance(other, PauliString):\n",
    "            raise TypeError(\"other is not a PauliString\")\n",
    "        return self.multiply(other) if not self.commutes_with(other) else None\n",
    "    \n",
    "    def __and__(self, other: Self):\n",
    "        \"\"\"Anticommutator of two PauliStrings.\"\"\"\n",
    "        if not isinstance(other, PauliString):\n",
    "            raise TypeError(\"other is not a PauliString\")\n",
    "        return self.multiply(other) if self.commutes_with(other) else None\n",
    "    \n",
    "    def commutes_with(self, other: Self):\n",
    "        \"\"\"Check if two Pauli bitarrays commute.\"\"\"\n",
    "        if not isinstance(other, PauliString):\n",
    "            raise TypeError(\"other is not a PauliString\")\n",
    "        return count_and(self.bits[::2], other.bits[1::2]) % 2 == count_and(self.bits[1::2], other.bits[::2]) % 2\n",
    "    \n",
    "    def phase(self, other: Self):\n",
    "        \"\"\"Find the phase of the product of two Pauli bitarrays.\"\"\"\n",
    "        if not isinstance(other, PauliString):\n",
    "            raise TypeError(\"other is not a PauliString\")\n",
    "        return (-1j) ** ((2 * count_and(self.bits[1::2], other.bits[::2])\n",
    "                          + count_and(self.bits[::2], self.bits[1::2])\n",
    "                          + count_and(other.bits[::2], other.bits[1::2])\n",
    "                          - count_and(self.bits[::2] ^ other.bits[::2], self.bits[1::2] ^ other.bits[1::2])) % 4)\n",
    "    \n",
    "    def multiply(self, other: Self):\n",
    "        \"\"\"Return the Pauli bitarray corresponding to the product of two Pauli bitarrays.\"\"\"\n",
    "        if not isinstance(other, PauliString):\n",
    "            raise TypeError(\"other is not a PauliString\")\n",
    "        return PauliString(bits=self.bits ^ other.bits)\n",
    "    \n",
    "    def to_matrix(self):\n",
    "        \"\"\"Return the matrix corresponding to this Pauli string.\"\"\"\n",
    "        return ft.reduce(np.kron, (self.MAT[p] for p in self.__repr__()))\n",
    "\n",
    "class PauliSum:\n",
    "    # Consider implementing __iter__\n",
    "    def __init__(self, labels_and_weights: dict[str, complex] | str | PauliString | Self):\n",
    "        self.terms = None\n",
    "        if isinstance(labels_and_weights, dict):\n",
    "            self.terms = self.clean(Counter({PauliString(label): weight for label, weight in labels_and_weights.items()}))\n",
    "        elif isinstance(labels_and_weights, str):\n",
    "            self.terms = Counter({PauliString(labels_and_weights): 1.0})\n",
    "        elif isinstance(labels_and_weights, PauliString):\n",
    "            self.terms = Counter({PauliString(bits=labels_and_weights.bits): 1.0})\n",
    "        elif isinstance(labels_and_weights, PauliSum):\n",
    "            self.terms = labels_and_weights.terms.copy()\n",
    "        else:\n",
    "            raise TypeError(f\"Unsupported type {type(labels_and_weights)}\")\n",
    "    \n",
    "    def __hash__(self):\n",
    "        raise NotImplementedError\n",
    "    \n",
    "    def __eq__(self, other: Self):\n",
    "        if not isinstance(other, PauliSum):\n",
    "            raise TypeError(\"other is not a PauliSum\")\n",
    "        if self.terms.keys() != other.terms.keys():\n",
    "            return False\n",
    "        for pstr, weight in self.terms.items():\n",
    "            if not np.isclose(other.terms[pstr], weight):\n",
    "                return False\n",
    "        return True\n",
    "    \n",
    "    def __repr__(self):\n",
    "        if self.is_zero():\n",
    "            return f'{0j:.2f}'\n",
    "        return '; '.join(f'{weight:.2f}*{string}' for string, weight in self.terms.items())\n",
    "    \n",
    "    def __iadd__(self, other: Self):\n",
    "        if not isinstance(other, PauliSum):\n",
    "            raise TypeError(\"other is not a PauliSum\")\n",
    "        for pstr, weight in other.terms.items():\n",
    "            self.terms[pstr] += weight\n",
    "            if np.isclose(self.terms[pstr], 0):\n",
    "                del self.terms[pstr]\n",
    "        return self\n",
    "    \n",
    "    def __add__(self, other: Self):\n",
    "        res = PauliSum(self)\n",
    "        res += other\n",
    "        return res\n",
    "\n",
    "    def __imul__(self, other: complex):\n",
    "        if not isinstance(other, complex):\n",
    "            raise TypeError(\"other is not a complex\")\n",
    "        for pstr in self.terms:\n",
    "            self.terms[pstr] *= other\n",
    "        return self\n",
    "\n",
    "    def __rmul__(self, other: complex):\n",
    "        if not isinstance(other, complex):\n",
    "            raise TypeError(\"other is not a complex\")\n",
    "        res = PauliSum(self)\n",
    "        res *= other\n",
    "        return res\n",
    "\n",
    "    def __mul__(self, other: Self | complex):\n",
    "        \"\"\"Multiply two PauliSums.\"\"\"\n",
    "        if isinstance(other, PauliSum):\n",
    "            res = Counter()\n",
    "            for l1, w1 in self.terms.items():\n",
    "                for l2, w2 in other.terms.items():\n",
    "                    res[l1 * l2] += l1.phase(l2) * w1 * w2\n",
    "            return PauliSum(res)\n",
    "        elif isinstance(other, complex):\n",
    "            res = PauliSum(self)\n",
    "            res *= other\n",
    "            return res\n",
    "        raise TypeError(f\"Unsupported type {type(other)}\")\n",
    "\n",
    "    def __or__(self, other: Self):\n",
    "        \"\"\"Commutator of two PauliSums.\"\"\"\n",
    "        if not isinstance(other, PauliSum):\n",
    "            raise TypeError(\"other is not a PauliSum\")\n",
    "        res = Counter()\n",
    "        for l1, w1 in self.terms.items():\n",
    "            for l2, w2 in other.terms.items():\n",
    "                if not l1.commutes_with(l2):\n",
    "                    res[l1 * l2] += 2 * l1.phase(l2) * w1 * w2\n",
    "        return PauliSum(res)\n",
    "\n",
    "    def __and__(self, other: Self):\n",
    "        \"\"\"Anticommutator of two PauliSums.\"\"\"\n",
    "        if not isinstance(other, PauliSum):\n",
    "            raise TypeError(\"other is not a PauliSum\")\n",
    "        res = Counter()\n",
    "        for l1, w1 in self.terms.items():\n",
    "            for l2, w2 in other.terms.items():\n",
    "                if l1.commutes_with(l2):\n",
    "                    res[l1 * l2] += 2 * l1.phase(l2) * w1 * w2\n",
    "        return PauliSum(res)\n",
    "    \n",
    "    def is_zero(self):\n",
    "        return not self.terms\n",
    "    \n",
    "    @staticmethod\n",
    "    def _pauli_ord(row: np.ndarray, col: np.ndarray, n: int) -> None:\n",
    "        if n == 1:\n",
    "            row[0], col[0] = 0, 0\n",
    "            row[1], col[1] = 1, 1\n",
    "            row[2], col[2] = 0, 1\n",
    "            row[3], col[3] = 1, 0\n",
    "            return\n",
    "        PauliSum._pauli_ord(row, col, n - 1)\n",
    "        pw = 1 << (2 * (n - 1))\n",
    "        row[1 * pw: 2 * pw] = row[:pw] + (1 << (n - 1))\n",
    "        col[1 * pw: 2 * pw] = col[:pw] + (1 << (n - 1))\n",
    "        row[2 * pw: 3 * pw] = row[:pw]\n",
    "        col[2 * pw: 3 * pw] = col[:pw] + (1 << (n - 1))\n",
    "        row[3 * pw: 4 * pw] = row[:pw] + (1 << (n - 1))\n",
    "        col[3 * pw: 4 * pw] = col[:pw]\n",
    "\n",
    "    @staticmethod\n",
    "    def _mat_to_vec(matrix: np.ndarray) -> np.ndarray:\n",
    "        \"\"\"\n",
    "        Vectorizes a matrix in Pauli order.\n",
    "                                                              [vec(A)]\n",
    "        Given a matrix M = [A B], we vectorize it as vec(M) = [vec(D)].\n",
    "                           [C D]                              [vec(B)]\n",
    "                                                              [vec(C)]\n",
    "\n",
    "        Args:\n",
    "            matrix: The matrix to vectorize.\n",
    "        \"\"\"\n",
    "        log2n = int(matrix.shape[0]).bit_length() - 1\n",
    "        row = np.zeros(4 ** log2n, dtype=np.int64)\n",
    "        col = np.zeros(4 ** log2n, dtype=np.int64)\n",
    "        PauliSum._pauli_ord(row, col, log2n)\n",
    "        flat_index = (1 << log2n) * row + col\n",
    "        return matrix.reshape(-1)[flat_index].astype(np.complex128)\n",
    "\n",
    "    @staticmethod\n",
    "    def matrix_decomposition(matrix: np.ndarray) -> np.ndarray:\n",
    "        \"\"\"\n",
    "        Return the weight vector corresponding to the Pauli basis decomposition of a matrix.\n",
    "        The ordering is IZXY.\n",
    "\n",
    "        Args:\n",
    "            matrix: The matrix to be decomposed.\n",
    "        \"\"\"\n",
    "        if matrix.ndim != 2:\n",
    "            raise ValueError(\"matrix must be a 2D ndarray\")\n",
    "        if matrix.shape[0] != matrix.shape[1]:\n",
    "            raise ValueError(f\"expected square matrix but matrix dimensions \\\n",
    "                            are ({matrix.shape[0]}, {matrix.shape[1]})\")\n",
    "        if matrix.shape[0] == 1:\n",
    "            raise ValueError(\"input must be a matrix, not a scalar\")\n",
    "        if int(matrix.shape[0]).bit_count() != 1:\n",
    "            raise ValueError(f\"expected square matrix with power of two \\\n",
    "                            dimensions but matrix dimensions are \\\n",
    "                            ({matrix.shape[0]}, {matrix.shape[1]})\")\n",
    "        b = PauliSum._mat_to_vec(matrix)\n",
    "        h = 1\n",
    "        while h < b.shape[0]:\n",
    "            for i in range(0, b.shape[0], 4 * h):\n",
    "                x, y = b[i : i + h], b[i + h : i + 2 * h]\n",
    "                b[i : i + h], b[i + h : i + 2 * h] = (x + y) / 2, (x - y) / 2\n",
    "                z, w = b[i + 2 * h : i + 3 * h], b[i + 3 * h : i + 4 * h]\n",
    "                b[i + 2 * h : i + 3 * h], b[i + 3 * h : i + 4 * h] = (z + w) / 2, 1j * (z - w) / 2\n",
    "            h *= 4\n",
    "        return b\n",
    "\n",
    "    @classmethod\n",
    "    def from_matrix(cls, mat: np.ndarray):\n",
    "        L = int(mat.shape[0]).bit_length() - 1\n",
    "        wvec = PauliSum.matrix_decomposition(mat)\n",
    "        obj = Counter()\n",
    "        for i, op in enumerate(it.product('IZXY', repeat=L)):\n",
    "            sop = ''.join(op)\n",
    "            obj[sop] += wvec[i]\n",
    "        return PauliSum(obj)\n",
    "\n",
    "    def to_matrix(self):\n",
    "        return sum(weight * pstr.to_matrix() for pstr, weight in self.terms.items())\n",
    "\n",
    "    def clean(self, dirty_counter: Counter):\n",
    "        \"\"\"Remove zero terms.\"\"\"\n",
    "        return Counter({label: weight for label, weight in dirty_counter.items() if not np.isclose(weight, 0)})"
   ]
  },
  {
   "cell_type": "code",
   "execution_count": 3,
   "id": "0d92362c",
   "metadata": {},
   "outputs": [],
   "source": [
    "def schwinger_dyson(hamil: PauliSum, word1: str) -> PauliSum:\n",
    "    return hamil | PauliSum(word1)\n",
    "\n",
    "def izxy_correspondence(word1: str) -> PauliSum:\n",
    "    # Even count of X and Y\n",
    "    mapping = {'I': 'Z', 'Z': 'I', 'X': 'Y', 'Y': 'X'}\n",
    "    word2 = ''.join(mapping[c] for c in word1)\n",
    "    return PauliSum({word1: 1.0j, word2: -1j * (-1j) ** ((word1.count('X') + word1.count('Y')) % 4)})\n",
    "\n",
    "def beta_independent_constraints(basis: SiteBasis, hamil: PauliSum, use_izxy: bool) -> np.ndarray:\n",
    "    # We handle normalization separately\n",
    "    n_cols = basis.size() - 1\n",
    "    A = np.zeros((n_cols, n_cols), dtype=complex)\n",
    "    for i, word in enumerate(basis._ops[1:]):\n",
    "        psum = schwinger_dyson(hamil, word)\n",
    "        if psum.is_zero():\n",
    "            continue\n",
    "        for pstr, weight in psum.terms.items():\n",
    "            A[i, basis.rank(str(pstr)) - 1] += weight\n",
    "    if use_izxy:\n",
    "        for i, word in enumerate(basis._ops[1:]):\n",
    "            if word.count('X') % 2 != 0 or word.count('Y') % 2 != 0:\n",
    "                continue\n",
    "            psum = izxy_correspondence(word)\n",
    "            for pstr, weight in psum.terms.items():\n",
    "                A[i, basis.rank(str(pstr)) - 1] += weight\n",
    "    return 1j * A\n",
    "\n",
    "def construct_hamil(L: int, h: float) -> PauliSum:\n",
    "    hamil = Counter()\n",
    "    for i in range(L):\n",
    "        t1 = None\n",
    "        if i<L-1:\n",
    "            t1 = 'I'*i + 'XX' + 'I'*(L-i-2)\n",
    "        else:\n",
    "            t1 = 'X' + 'I'*(L-2) + 'X'\n",
    "        t2 = 'I'*i+'Z'+'I'*(L-i-1)\n",
    "        hamil[t1] = -1\n",
    "        hamil[t2] = -h\n",
    "    if L == 2:\n",
    "        hamil = Counter({'IZ': -h, 'ZI': -h, 'XX': -1})\n",
    "    return PauliSum(hamil)"
   ]
  },
  {
   "cell_type": "code",
   "execution_count": 4,
   "id": "b4e44b14",
   "metadata": {},
   "outputs": [],
   "source": [
    "# Now decompose everything\n",
    "def get_bases(L):\n",
    "    basis = SiteBasis(L)\n",
    "    small_basis = SiteBasis(L, use_rot=True, use_reflect=True)\n",
    "    return basis, small_basis\n",
    "\n",
    "def decompose(op: PauliSum, A_ns, small_basis):\n",
    "    res = np.zeros(A_ns.shape[1], dtype=np.complex128)\n",
    "    for pstr, weight in op.terms.items():\n",
    "        res += weight * A_ns[small_basis.rank(str(pstr)) - 1, :]\n",
    "    return res\n",
    "\n",
    "def get_decomp(A_ns, ops, small_basis):\n",
    "    decomp_mats = np.zeros((A_ns.shape[1], len(ops), len(ops)), dtype=np.complex128)\n",
    "    for i, o1 in enumerate(ops):\n",
    "        for j, o2 in enumerate(ops):\n",
    "            if i <= j:\n",
    "                continue\n",
    "            p1 = PauliString(o1)\n",
    "            p2 = PauliString(o2)\n",
    "            p3 = p1 * p2\n",
    "            decomp_mats[:, i, j] += p1.phase(p2) * A_ns[small_basis.rank(str(p3)) - 1, :]\n",
    "    return decomp_mats + decomp_mats.conj().transpose((0, 2, 1))\n",
    "\n",
    "def decompose_sb(op: PauliSum, small_basis):\n",
    "    res = np.zeros(small_basis.size() - 1, dtype=np.complex128)\n",
    "    for pstr, weight in op.terms.items():\n",
    "        res[small_basis.rank(str(pstr)) - 1] += weight\n",
    "    return res\n",
    "\n",
    "def get_decomp_sb(ops, small_basis):\n",
    "    decomp_mats = np.zeros((small_basis.size() - 1, len(ops), len(ops)), dtype=np.complex128)\n",
    "    for i, o1 in enumerate(ops):\n",
    "        for j, o2 in enumerate(ops):\n",
    "            if i <= j:\n",
    "                continue\n",
    "            p1 = PauliString(o1)\n",
    "            p2 = PauliString(o2)\n",
    "            p3 = p1 * p2\n",
    "            decomp_mats[small_basis.rank(str(p3)) - 1, i, j] += p1.phase(p2)\n",
    "    return decomp_mats + decomp_mats.conj().transpose((0, 2, 1))\n",
    "\n",
    "def get_reorder(matrix):\n",
    "    n_cc, labels = connected_components(csr_array(matrix), directed=False)\n",
    "    reord = [y for y, _ in sorted(enumerate(labels), key=lambda x: x[1])]\n",
    "    return n_cc, reord, labels.tolist()"
   ]
  },
  {
   "cell_type": "code",
   "execution_count": null,
   "id": "519d9df7",
   "metadata": {},
   "outputs": [],
   "source": [
    "def analytical_energy(h):\n",
    "    return (2 * np.abs(1 - h) / np.pi) * ellipeinc(np.pi / 2, -4 * h / (1 - h) ** 2)\n",
    "\n",
    "def dm_energy(L, h):\n",
    "    prob = pc.Problem()\n",
    "    hamil = construct_hamil(L, h)\n",
    "    H = hamil.to_matrix()\n",
    "    # H = csr_array(hamil.to_matrix())\n",
    "    rho = pc.SymmetricVariable(\"ρ\", H.shape[0])\n",
    "    prob.set_objective(\"min\", pc.trace(rho | H))\n",
    "    prob.add_constraint(pc.trace(rho) == 1)\n",
    "    prob.add_constraint(rho >> 0)\n",
    "    # prob.add_constraint(rho * H == H * rho)\n",
    "    # print(prob)\n",
    "    return prob.solve(), rho\n",
    "\n",
    "def dm_energies(L, hs):\n",
    "    energies = np.zeros_like(hs)\n",
    "    for i, h in enumerate(hs):\n",
    "        # print(f'Solving {h:.4f}...')\n",
    "        energies[i] = -dm_energy(L, h)[0].value/L\n",
    "    return energies\n",
    "\n",
    "def nnz(mat):\n",
    "    return np.count_nonzero(~np.isclose(mat, 0))\n",
    "\n",
    "def get_energy_problem(hamil, small_basis, P, As, Bs) -> pc.Solution:\n",
    "    prob = pc.Problem()\n",
    "    decomp_hamil = np.real(decompose_sb(hamil, small_basis))\n",
    "    # b = decomp_hamil[:label_counts[0]]\n",
    "    # c = decomp_hamil[label_counts[0]:]\n",
    "    # This is the primal problem\n",
    "    X = pc.HermitianVariable(\"X\", As.shape[1])\n",
    "    Y = pc.HermitianVariable(\"Y\", Bs.shape[1])\n",
    "    v = pc.ComplexVariable(\"v\", P.shape[0])\n",
    "    # w = pc.ComplexVariable(\"v\", Q.shape[0])\n",
    "    prob.set_objective(\"max\", -(pc.trace(X) +pc.trace(Y)))\n",
    "    prob.add_constraint(X >> 0)\n",
    "    prob.add_constraint(Y >> 0)\n",
    "    # Ptv = P.T * v\n",
    "    # Qtw = Q.T * w\n",
    "    # print(P.shape)\n",
    "    # print(Q.shape)\n",
    "    # print(b.shape)\n",
    "    # print(c.shape)\n",
    "    # print(As.shape)\n",
    "    # print(Bs.shape)\n",
    "    # prob.add_list_of_constraints([(X | As[i]) + Ptv[i, :] == b[i] for i in range(As.shape[0])])\n",
    "    # prob.add_list_of_constraints([(Y | Bs[i]) + Qtw[i, :] == c[i] for i in range(Bs.shape[0])])\n",
    "    prob.add_list_of_constraints([(X | As[i]) + (Y | Bs[i]) == decomp_hamil[i] for i in range(As.shape[0])])\n",
    "    return prob\n",
    "\n",
    "def get_energies(L, hs):\n",
    "    small_basis = SiteBasis(L, use_reflect=True, use_rot=True)\n",
    "    hamil = construct_hamil(L, 1)\n",
    "    A = beta_independent_constraints(small_basis, hamil, use_izxy=False)\n",
    "    A_ns = null_space(A)\n",
    "    # Now build the ops from the sparsity pattern\n",
    "    solve_basis = small_basis\n",
    "    zero_ops = set(np.where(np.all(np.isclose(A_ns, 0), axis=1))[0])\n",
    "    sparsity = np.ones((solve_basis.size(), solve_basis.size()), dtype=np.int8)\n",
    "    for i, o1 in enumerate(solve_basis._ops):\n",
    "        for j, o2 in enumerate(solve_basis._ops):\n",
    "            if i <= j:\n",
    "                continue\n",
    "            if small_basis.rank(str(PauliString(o1) * PauliString(o2))) - 1 in zero_ops:\n",
    "                sparsity[i, j] = sparsity[j, i] = 0\n",
    "    _, reord, labels = get_reorder(sparsity)\n",
    "    label_counts = Counter(labels)\n",
    "    spops1 = np.array(solve_basis._ops)[reord[:label_counts[0]]]\n",
    "    spops2 = np.array(solve_basis._ops)[reord[label_counts[0]:]]\n",
    "    As = get_decomp_sb(spops1, small_basis)\n",
    "    Bs = get_decomp_sb(spops2, small_basis)\n",
    "    energies = np.zeros_like(hs)\n",
    "    prob = get_energy_problem(construct_hamil(L, 1), small_basis, A, As, Bs)\n",
    "    print(prob)\n",
    "    for i, h in enumerate(hs):\n",
    "        print(f'Solving {h:.4f}...')\n",
    "        hamil = construct_hamil(L, h)\n",
    "        energies[i] = -get_energy_problem(hamil, small_basis, A, As, Bs).solve().value\n",
    "    return energies"
   ]
  },
  {
   "cell_type": "code",
   "execution_count": 13,
   "id": "dc764dd5",
   "metadata": {},
   "outputs": [
    {
     "name": "stdout",
     "output_type": "stream",
     "text": [
      "Complex Semidefinite Program\n",
      "  maximize -(tr(X) + tr(Y))\n",
      "  over\n",
      "    68×68 hermitian variables X, Y\n",
      "  subject to\n",
      "    X ≽ 0\n",
      "    Y ≽ 0\n",
      "    ⟨X, [68×68]⟩ + ⟨Y, [68×68]⟩ = i ∀ i ∈ [0,0,…,0,0]\n",
      "Solving 1.0000...\n"
     ]
    },
    {
     "data": {
      "text/plain": [
       "array([6.47213595])"
      ]
     },
     "execution_count": 13,
     "metadata": {},
     "output_type": "execute_result"
    }
   ],
   "source": [
    "get_energies(5, np.array([1.0]))"
   ]
  },
  {
   "cell_type": "code",
   "execution_count": 40,
   "id": "5972060f",
   "metadata": {},
   "outputs": [
    {
     "name": "stdout",
     "output_type": "stream",
     "text": [
      "Solving 3\n"
     ]
    },
    {
     "data": {
      "image/png": "[encoded data removed]",
      "text/plain": [
       "<Figure size 640x480 with 1 Axes>"
      ]
     },
     "metadata": {},
     "output_type": "display_data"
    }
   ],
   "source": [
    "Ls = [3]\n",
    "hs = np.linspace(1e-3, 2, num=10)\n",
    "aE = analytical_energy(hs)\n",
    "for L in Ls:\n",
    "    print(f'Solving {L}')\n",
    "    # plt.plot(hs, 100 * np.abs(get_energies(L, hs) - aE) / aE, label=f'L = {L} (basis)')\n",
    "    plt.plot(hs, 100 * np.abs(dm_energies(L, hs) - aE) / aE, label=f'L = {L} (DM)')\n",
    "plt.axvline(1, linestyle='--', c='black')\n",
    "plt.xlim(0,2)\n",
    "plt.ylabel('Energy percent error')\n",
    "plt.xlabel('Transverse field')\n",
    "plt.legend()\n",
    "plt.show()"
   ]
  },
  {
   "cell_type": "code",
   "execution_count": 41,
   "id": "e86032c8",
   "metadata": {},
   "outputs": [],
   "source": [
    "def tfimgen(n):\n",
    "    gens = set()\n",
    "    xx = \"XX\" + \"I\" * (n - 2)\n",
    "    z = \"Z\" + \"I\" * (n - 1)\n",
    "    for j in range(n):\n",
    "        gens.add(xx[j:] + xx[:j])\n",
    "        gens.add(z[j:] + z[:j])\n",
    "    return list(gens)"
   ]
  },
  {
   "cell_type": "code",
   "execution_count": 230,
   "id": "dc3d62ff",
   "metadata": {},
   "outputs": [],
   "source": [
    "L = 6\n",
    "sol, dm = dm_energy(L, 1)\n",
    "rho = np.array(dm.value)\n",
    "rho_ps = PauliSum.from_matrix(rho)"
   ]
  },
  {
   "cell_type": "code",
   "execution_count": 99,
   "id": "b10aea0d",
   "metadata": {},
   "outputs": [],
   "source": [
    "for op in rho_ps.terms.keys():\n",
    "    if str(op).count('Y') % 2 != 0:\n",
    "        print(op)"
   ]
  },
  {
   "cell_type": "code",
   "execution_count": 43,
   "id": "017dbc19",
   "metadata": {},
   "outputs": [
    {
     "name": "stdout",
     "output_type": "stream",
     "text": [
      "['III', 'IIZ', 'IXX', 'IYY', 'IZI', 'IZZ', 'XIX', 'XXI', 'XXZ', 'XZX', 'YIY', 'YYI', 'YYZ', 'YZY', 'ZII', 'ZIZ', 'ZXX', 'ZYY', 'ZZI', 'ZZZ']\n",
      "set()\n",
      "set()\n"
     ]
    }
   ],
   "source": [
    "g = [PauliString(x) for x in tfimgen(L)]\n",
    "gset = set(g)\n",
    "for a in g:\n",
    "    for b in g:\n",
    "        c = a & b\n",
    "        if c is not None and c not in gset:\n",
    "            gset.add(c)\n",
    "            g.append(c)\n",
    "# print(len(g))\n",
    "# print(SiteBasis(L, True, True).size())\n",
    "cg = [str(x) for x in rho_ps.terms.keys()]\n",
    "g = [str(x) for x in g]\n",
    "g.sort()\n",
    "cg.sort()\n",
    "print(cg)\n",
    "print(set(g) - set(cg))\n",
    "print(set(cg) - set(g))"
   ]
  },
  {
   "cell_type": "code",
   "execution_count": 44,
   "id": "5feac095",
   "metadata": {},
   "outputs": [
    {
     "name": "stdout",
     "output_type": "stream",
     "text": [
      "['III', 'IIZ', 'IZI', 'IZZ', 'IXX', 'IYY', 'ZII', 'ZIZ', 'ZZI', 'ZZZ', 'ZXX', 'ZYY', 'XIX', 'XZX', 'XXI', 'XXZ', 'YIY', 'YZY', 'YYI', 'YYZ']\n"
     ]
    }
   ],
   "source": [
    "print([str(x) for x in rho_ps.terms.keys()])"
   ]
  },
  {
   "cell_type": "code",
   "execution_count": 216,
   "id": "f1ddc3d1",
   "metadata": {},
   "outputs": [
    {
     "name": "stdout",
     "output_type": "stream",
     "text": [
      "(np.complex128(0.125+0j), {'ZZZ', 'III'})\n",
      "(np.complex128(0.08333+0j), {'IIZ', 'IZZ', 'IXX'})\n",
      "(np.complex128(-0.04167+0j), {'IYY'})\n",
      "(np.complex128(0.04167+0j), {'XXZ'})\n",
      "(np.complex128(-0.08333+0j), {'YYZ'})\n"
     ]
    }
   ],
   "source": [
    "com = {}\n",
    "small_basis = SiteBasis(L, True, True)\n",
    "for pstr, weight in rho_ps.terms.items():\n",
    "    rw = np.round(weight, 5)\n",
    "    pnorm = small_basis.normalize(str(pstr))\n",
    "    if rw in com:\n",
    "        com[rw].add(pnorm)\n",
    "    else:\n",
    "        com[rw] = {pnorm}\n",
    "print(*com.items(),sep='\\n')"
   ]
  },
  {
   "cell_type": "code",
   "execution_count": 231,
   "id": "f64a1a65",
   "metadata": {},
   "outputs": [
    {
     "name": "stdout",
     "output_type": "stream",
     "text": [
      "{'XYZXYZ', 'XXXYXY', 'IXYXIY', 'XYXZYZ', 'XZYYYZ', 'IIXYXY', 'IXIZYZ', 'IIXIYZ', 'IXYXYZ', 'IXIXYX', 'XYXYXY', 'IXYXZY', 'IXYZIZ', 'IXYZXY', 'IYXYYZ', 'IIYXZZ', 'IYXYXZ'}\n",
      "147\n",
      "(429, 45)\n"
     ]
    }
   ],
   "source": [
    "small_basis = SiteBasis(L, use_reflect=True, use_rot=True)\n",
    "hamil = construct_hamil(L, 1)\n",
    "A = beta_independent_constraints(small_basis, hamil, use_izxy=False)\n",
    "A_ns = null_space(A)\n",
    "zero_ops = set(small_basis.unrank(op + 1) for op in np.where(np.all(np.isclose(A_ns, 0), axis=1))[0])\n",
    "nnz_ops = set(small_basis._ops) - zero_ops\n",
    "miss_ops = nnz_ops - set([small_basis.normalize(str(op)) for op in rho_ps.terms.keys()])\n",
    "miss_ops_izxy = set()\n",
    "for op in miss_ops:\n",
    "    mapping = {'I': 'Z', 'Z': 'I', 'X': 'Y', 'Y': 'X'}\n",
    "    izxy_dual = lambda word1: ''.join(mapping[c] for c in word1)\n",
    "    if small_basis.normalize(op) in miss_ops_izxy or small_basis.normalize(izxy_dual(op)) in miss_ops_izxy:\n",
    "        continue\n",
    "    miss_ops_izxy.add(op)\n",
    "print(miss_ops_izxy)\n",
    "print(len(nnz_ops))\n",
    "print(A_ns.shape)"
   ]
  },
  {
   "cell_type": "code",
   "execution_count": 187,
   "id": "be42e2c7",
   "metadata": {},
   "outputs": [
    {
     "name": "stdout",
     "output_type": "stream",
     "text": [
      "706\n",
      "(1299, 39)\n"
     ]
    }
   ],
   "source": [
    "small_basis = SiteBasis(L, use_reflect=True, use_rot=True)\n",
    "hamil = construct_hamil(L, 1)\n",
    "A = beta_independent_constraints(small_basis, hamil, use_izxy=True)\n",
    "A_ns = null_space(A)\n",
    "zero_ops = set(small_basis.unrank(op + 1) for op in np.where(np.all(np.isclose(A_ns, 0), axis=1))[0])\n",
    "nnz_ops = set(small_basis._ops) - zero_ops\n",
    "print(len(nnz_ops))\n",
    "print(A_ns.shape)"
   ]
  },
  {
   "cell_type": "code",
   "execution_count": 48,
   "id": "f51371c6",
   "metadata": {},
   "outputs": [
    {
     "name": "stdout",
     "output_type": "stream",
     "text": [
      "5\n"
     ]
    }
   ],
   "source": [
    "indicator = ~np.isclose(rho, 0)\n",
    "n_cc, reord, labels = get_reorder(indicator)\n",
    "print(n_cc)\n",
    "reord_rho = rho[:, reord][reord, :]\n",
    "reord_rho_ps=PauliSum.from_matrix(reord_rho)"
   ]
  },
  {
   "cell_type": "code",
   "execution_count": 49,
   "id": "3813bcb9",
   "metadata": {},
   "outputs": [
    {
     "name": "stdout",
     "output_type": "stream",
     "text": [
      "8\n",
      "20\n",
      "{'ZZZ', 'IIZ', 'IXX', 'YYZ', 'IYY', 'XXZ', 'IZZ', 'III'}\n"
     ]
    }
   ],
   "source": [
    "small_basis = SiteBasis(L, True, True)\n",
    "smod = set([small_basis.normalize(str(op)) for op in rho_ps.terms.keys()])\n",
    "print(len(smod))\n",
    "print(len(rho_ps.terms))\n",
    "print(smod)"
   ]
  },
  {
   "cell_type": "code",
   "execution_count": 50,
   "id": "ec5b7c70",
   "metadata": {},
   "outputs": [
    {
     "data": {
      "image/png": "[encoded data removed]",
      "text/plain": [
       "<Figure size 640x480 with 2 Axes>"
      ]
     },
     "metadata": {},
     "output_type": "display_data"
    }
   ],
   "source": [
    "sns.heatmap(np.log(reord_rho + 1e-12), xticklabels=False, yticklabels=False)\n",
    "plt.title(r'$\\log(ρ_{ij} + 10^{-12})$ for L=6')\n",
    "plt.xlabel(r'$j$')\n",
    "plt.ylabel(r'$i$')\n",
    "plt.show()"
   ]
  },
  {
   "cell_type": "code",
   "execution_count": 51,
   "id": "57cf5ba4",
   "metadata": {},
   "outputs": [
    {
     "data": {
      "image/png": "[encoded data removed]",
      "text/plain": [
       "<Figure size 640x480 with 2 Axes>"
      ]
     },
     "metadata": {},
     "output_type": "display_data"
    }
   ],
   "source": [
    "sns.heatmap(np.log(rho + 1e-12), xticklabels=False, yticklabels=False)\n",
    "plt.title(r'$\\log(ρ_{ij} + 10^{-12})$ for L=6')\n",
    "plt.xlabel(r'$j$')\n",
    "plt.ylabel(r'$i$')\n",
    "plt.show()"
   ]
  },
  {
   "cell_type": "code",
   "execution_count": 292,
   "id": "aba45f20",
   "metadata": {},
   "outputs": [],
   "source": [
    "def dm_tvals(L, h, Es):\n",
    "    tvals = np.zeros_like(Es)\n",
    "    hamil = construct_hamil(L, h)\n",
    "    prob = pc.Problem()\n",
    "    H = hamil.to_matrix()\n",
    "    rho = pc.SymmetricVariable(\"ρ\", H.shape[0])\n",
    "    x = pc.RealVariable(\"x\", H.shape[0])\n",
    "    prob.set_objective(\"max\", pc.lambda_min(rho))\n",
    "    prob.add_constraint(pc.trace(rho) == 1)\n",
    "    Y = pc.block([[rho, x],\n",
    "                  [x.T, 1.0]])\n",
    "    prob.add_constraint(Y >> 0)\n",
    "    for i, E in enumerate(Es):\n",
    "        print(f'Solving {E:.4f}...')\n",
    "        Econs = (pc.trace(rho * H) == E)\n",
    "        prob.add_constraint(Econs)\n",
    "        if i == 3:\n",
    "            print(prob)\n",
    "        tvals[i] = prob.solve().value\n",
    "        prob.remove_constraint(Econs)\n",
    "    return tvals\n",
    "\n",
    "def dm_tval(L, h, E):\n",
    "    hamil = construct_hamil(L, h)\n",
    "    H = hamil.to_matrix()\n",
    "    prob = pc.Problem()\n",
    "    rho = pc.SymmetricVariable(\"ρ\", H.shape[0])\n",
    "    prob.set_objective(\"max\", pc.lambda_min(rho))\n",
    "    prob.add_constraint(pc.trace(rho) == 1)\n",
    "    prob.add_constraint(pc.trace(rho * H) == E)\n",
    "    sobj = prob.solve()\n",
    "    return sobj.value, rho"
   ]
  },
  {
   "cell_type": "code",
   "execution_count": 287,
   "id": "119362b6",
   "metadata": {},
   "outputs": [
    {
     "data": {
      "text/plain": [
       "array([-3.2321, -3.1458,  0.2321,  0.5   ,  0.5   ,  1.5   ,  1.5   ,\n",
       "        2.1458])"
      ]
     },
     "execution_count": 287,
     "metadata": {},
     "output_type": "execute_result"
    }
   ],
   "source": [
    "L, h = 3, 0.5\n",
    "np.round(eigvalsh(construct_hamil(L, h).to_matrix()), 4)"
   ]
  },
  {
   "cell_type": "code",
   "execution_count": 293,
   "id": "47c0b73a",
   "metadata": {},
   "outputs": [
    {
     "name": "stdout",
     "output_type": "stream",
     "text": [
      "Solving -3.2000...\n",
      "Solving -3.1576...\n",
      "Solving -3.1152...\n",
      "Solving -3.0727...\n",
      "Optimization Problem\n",
      "  maximize λ_min(ρ)\n",
      "  over\n",
      "    8×1 real variable x\n",
      "    8×8 symmetric variable ρ\n",
      "  subject to\n",
      "    tr(ρ) = 1\n",
      "    [ρ, x; xᵀ, 1] ≽ 0\n",
      "    tr(ρ·[8×8]) = -3.07273\n",
      "Solving -3.0303...\n",
      "Solving -2.9879...\n",
      "Solving -2.9455...\n",
      "Solving -2.9030...\n",
      "Solving -2.8606...\n",
      "Solving -2.8182...\n",
      "Solving -2.7758...\n",
      "Solving -2.7333...\n",
      "Solving -2.6909...\n",
      "Solving -2.6485...\n",
      "Solving -2.6061...\n",
      "Solving -2.5636...\n",
      "Solving -2.5212...\n",
      "Solving -2.4788...\n",
      "Solving -2.4364...\n",
      "Solving -2.3939...\n",
      "Solving -2.3515...\n",
      "Solving -2.3091...\n",
      "Solving -2.2667...\n",
      "Solving -2.2242...\n",
      "Solving -2.1818...\n",
      "Solving -2.1394...\n",
      "Solving -2.0970...\n",
      "Solving -2.0545...\n",
      "Solving -2.0121...\n",
      "Solving -1.9697...\n",
      "Solving -1.9273...\n",
      "Solving -1.8848...\n",
      "Solving -1.8424...\n",
      "Solving -1.8000...\n",
      "Solving -1.7576...\n",
      "Solving -1.7152...\n",
      "Solving -1.6727...\n",
      "Solving -1.6303...\n",
      "Solving -1.5879...\n",
      "Solving -1.5455...\n",
      "Solving -1.5030...\n",
      "Solving -1.4606...\n",
      "Solving -1.4182...\n",
      "Solving -1.3758...\n",
      "Solving -1.3333...\n",
      "Solving -1.2909...\n",
      "Solving -1.2485...\n",
      "Solving -1.2061...\n",
      "Solving -1.1636...\n",
      "Solving -1.1212...\n",
      "Solving -1.0788...\n",
      "Solving -1.0364...\n",
      "Solving -0.9939...\n",
      "Solving -0.9515...\n",
      "Solving -0.9091...\n",
      "Solving -0.8667...\n",
      "Solving -0.8242...\n",
      "Solving -0.7818...\n",
      "Solving -0.7394...\n",
      "Solving -0.6970...\n",
      "Solving -0.6545...\n",
      "Solving -0.6121...\n",
      "Solving -0.5697...\n",
      "Solving -0.5273...\n",
      "Solving -0.4848...\n",
      "Solving -0.4424...\n",
      "Solving -0.4000...\n",
      "Solving -0.3576...\n",
      "Solving -0.3152...\n",
      "Solving -0.2727...\n",
      "Solving -0.2303...\n",
      "Solving -0.1879...\n",
      "Solving -0.1455...\n",
      "Solving -0.1030...\n",
      "Solving -0.0606...\n",
      "Solving -0.0182...\n",
      "Solving 0.0242...\n",
      "Solving 0.0667...\n",
      "Solving 0.1091...\n",
      "Solving 0.1515...\n",
      "Solving 0.1939...\n",
      "Solving 0.2364...\n",
      "Solving 0.2788...\n",
      "Solving 0.3212...\n",
      "Solving 0.3636...\n",
      "Solving 0.4061...\n",
      "Solving 0.4485...\n",
      "Solving 0.4909...\n",
      "Solving 0.5333...\n",
      "Solving 0.5758...\n",
      "Solving 0.6182...\n",
      "Solving 0.6606...\n",
      "Solving 0.7030...\n",
      "Solving 0.7455...\n",
      "Solving 0.7879...\n",
      "Solving 0.8303...\n",
      "Solving 0.8727...\n",
      "Solving 0.9152...\n",
      "Solving 0.9576...\n",
      "Solving 1.0000...\n"
     ]
    }
   ],
   "source": [
    "Es = np.linspace(-3.2, 1, num=100)\n",
    "ts = dm_tvals(L, h, Es)"
   ]
  },
  {
   "cell_type": "code",
   "execution_count": 294,
   "id": "c08f5ac7",
   "metadata": {},
   "outputs": [
    {
     "data": {
      "text/plain": [
       "[<matplotlib.lines.Line2D at 0x2bd03169610>]"
      ]
     },
     "execution_count": 294,
     "metadata": {},
     "output_type": "execute_result"
    },
    {
     "data": {
      "image/png": "[encoded data removed]",
      "text/plain": [
       "<Figure size 640x480 with 1 Axes>"
      ]
     },
     "metadata": {},
     "output_type": "display_data"
    }
   ],
   "source": [
    "plt.plot(Es, np.log(np.abs(ts)))"
   ]
  },
  {
   "cell_type": "code",
   "execution_count": null,
   "id": "27608de5",
   "metadata": {},
   "outputs": [],
   "source": [
    "L, h, E = 8, 0.5, 0\n",
    "t, dm = dm_tval(L, h, E)\n",
    "print(t)"
   ]
  },
  {
   "cell_type": "code",
   "execution_count": 268,
   "id": "de2528a9",
   "metadata": {},
   "outputs": [
    {
     "name": "stdout",
     "output_type": "stream",
     "text": [
      "0.06+0.00j*IIII\n"
     ]
    }
   ],
   "source": [
    "rho = np.array(dm.value)\n",
    "rho_ps = PauliSum.from_matrix(rho)\n",
    "print(rho_ps)"
   ]
  },
  {
   "cell_type": "code",
   "execution_count": 270,
   "id": "01af69e4",
   "metadata": {},
   "outputs": [
    {
     "data": {
      "text/plain": [
       "-6.38469456360371"
      ]
     },
     "execution_count": 270,
     "metadata": {},
     "output_type": "execute_result"
    }
   ],
   "source": [
    "dm_energy(L, h)[0].value"
   ]
  },
  {
   "cell_type": "code",
   "execution_count": 202,
   "id": "67156cf0",
   "metadata": {},
   "outputs": [],
   "source": [
    "def xyz_model(L: int, h: float) -> PauliSum:\n",
    "    hamil = Counter()\n",
    "    for i in range(L):\n",
    "        t1x, t1y, t1z = None, None, None\n",
    "        if i<L-1:\n",
    "            t1x = 'I'*i + 'XX' + 'I'*(L-i-2)\n",
    "            t1y = 'I'*i + 'YY' + 'I'*(L-i-2)\n",
    "            t1z = 'I'*i + 'ZZ' + 'I'*(L-i-2)\n",
    "        else:\n",
    "            t1x = 'X' + 'I'*(L-2) + 'X'\n",
    "            t1y = 'Y' + 'I'*(L-2) + 'Y'\n",
    "            t1z = 'Z' + 'I'*(L-2) + 'Z'\n",
    "        t2x = 'I'*i+'X'+'I'*(L-i-1)\n",
    "        t2y = 'I'*i+'Y'+'I'*(L-i-1)\n",
    "        t2z = 'I'*i+'Z'+'I'*(L-i-1)\n",
    "        if t1x is not None:\n",
    "            hamil[t1x] = -1\n",
    "            hamil[t1y] = -1\n",
    "            hamil[t1z] = -1\n",
    "        hamil[t2x] = -h\n",
    "        hamil[t2y] = -h\n",
    "        hamil[t2z] = -h\n",
    "    if L == 2:\n",
    "        hamil = Counter({'XX': -1, 'YY': -1, 'ZZ': -1, 'XI': -h, 'IX': -h, 'YI': -h, 'IY': -h, 'ZI': -h, 'IZ': -h})\n",
    "    return PauliSum(hamil)\n",
    "\n",
    "def spin_chain_rho(hamil: PauliSum):\n",
    "    H = hamil.to_matrix()\n",
    "    prob = pc.Problem()\n",
    "    rho = pc.SymmetricVariable(\"ρ\", H.shape[0])\n",
    "    prob.set_objective(\"min\", pc.trace(rho * H))\n",
    "    prob.add_constraint(pc.trace(rho) == 1)\n",
    "    prob.add_constraint(rho >> 0)\n",
    "    prob.solve()\n",
    "    return np.array(rho.value)"
   ]
  },
  {
   "cell_type": "code",
   "execution_count": 210,
   "id": "321e49b9",
   "metadata": {},
   "outputs": [],
   "source": [
    "L, h = 4, 1\n",
    "rho = spin_chain_rho(xyz_model(L, h))\n",
    "rho_ps = PauliSum.from_matrix(rho)"
   ]
  },
  {
   "cell_type": "code",
   "execution_count": 214,
   "id": "b43e7c1a",
   "metadata": {},
   "outputs": [
    {
     "name": "stdout",
     "output_type": "stream",
     "text": [
      "(np.complex128(0.0625+0j), {'IIII'})\n",
      "(np.complex128(0.04419+0j), {'IIIZ', 'IIIX'})\n",
      "(np.complex128(0.03125+0j), {'IIZZ', 'IXIZ', 'IXIX', 'IIXZ', 'IZIZ', 'IIXX'})\n",
      "(np.complex128(0.0221+0j), {'IXXX', 'IXXZ', 'IZZZ', 'IXZX', 'IZXZ', 'IXZZ'})\n",
      "(np.complex128(0.01563+0j), {'XXXX', 'ZZZZ'})\n",
      "(np.complex128(0.01562+0j), {'XZZZ', 'XZXZ', 'XXZZ', 'XXXZ'})\n"
     ]
    }
   ],
   "source": [
    "com = {}\n",
    "small_basis = SiteBasis(L, use_rot=True, use_reflect=True)\n",
    "for pstr, weight in rho_ps.terms.items():\n",
    "    rw = np.round(weight, 5)\n",
    "    pnorm = small_basis.normalize(str(pstr))\n",
    "    if rw in com:\n",
    "        com[rw].add(pnorm)\n",
    "    else:\n",
    "        com[rw] = {pnorm}\n",
    "print(*com.items(),sep='\\n')"
   ]
  },
  {
   "cell_type": "code",
   "execution_count": 410,
   "id": "4bdc8b0a",
   "metadata": {},
   "outputs": [],
   "source": [
    "L = 5\n",
    "hamil = construct_hamil(L, 1)\n",
    "basis = SiteBasis(L)\n",
    "small_basis = SiteBasis(L, use_reflect=True, use_rot=True)\n",
    "A = np.zeros((basis.size(), basis.size()), dtype=np.complex128)\n",
    "for i, op in enumerate(basis._ops):\n",
    "    p = PauliString(op)\n",
    "    for pstr, weight in hamil.terms.items():\n",
    "        u = p | pstr\n",
    "        if u is not None:\n",
    "            A[i, basis.rank(str(u))] += weight * p.phase(pstr)\n",
    "A_ns = np.real(null_space(1j * A))"
   ]
  },
  {
   "cell_type": "code",
   "execution_count": 411,
   "id": "56cdbdb3",
   "metadata": {},
   "outputs": [
    {
     "name": "stdout",
     "output_type": "stream",
     "text": [
      "108\n",
      "{'IXYZZ', 'IXYZX', 'IXZZY', 'IYXYZ', 'IXYXZ', 'IIIIX', 'IIIYY', 'YZYZZ', 'IYXXY', 'IXYIZ', 'IIXYZ', 'IXXIY', 'IZYZZ', 'YYYZZ', 'XYYYY', 'IYZXZ', 'XZXZZ', 'IXXXX', 'IXIXY', 'IXIXZ', 'IYXXZ', 'IIXIX', 'IYYZZ', 'XXXZZ', 'IXXXZ', 'IYYIZ', 'XYXYZ', 'IZIZZ', 'IXXXY', 'XXYZY', 'XXXYZ', 'IIZZZ', 'IXZXZ', 'IXIYZ', 'IZXZZ', 'IYXZZ', 'XXYYZ', 'XXYZZ', 'IIXIY', 'ZZZZZ', 'IYXYY', 'IIIZZ', 'IXXZY', 'XYZZZ', 'XZYZZ', 'XZYYZ', 'IYIYZ', 'IIIII', 'XYYYZ', 'IIZYZ', 'IXXZZ', 'IXYXY', 'IIXIZ', 'IXYYY', 'IXZIY', 'IZXYZ', 'IXZYZ', 'IIYXZ', 'XYZYZ', 'IIYZY', 'IXXYX', 'YYZZZ', 'XXYXZ', 'XYXYY', 'IXXIZ', 'IIYIY', 'XXXXZ', 'IYZZZ', 'IXZYY', 'YZZZZ', 'IYYYY', 'YYYYZ', 'XXYXY', 'XXZXZ', 'IXZZX', 'IIIIZ', 'IZYYZ', 'IIXZY', 'IIZIZ', 'XYZXZ', 'IIIXZ', 'IXYZY', 'IIYIZ', 'IIYZZ', 'IYZZY', 'IXYYX', 'XYYXZ', 'IIYYY', 'XXXXY', 'IYIYY', 'IXYIY', 'IIXZZ', 'IIXXX', 'IIXXZ', 'XXZZZ', 'IIXYY', 'IZZZZ', 'IYYXZ', 'IYZYZ', 'IYYYZ', 'IXXYY', 'IIIXX', 'IIXZX', 'XYYZY', 'IIYYZ', 'IZXXZ', 'IXIZZ', 'IIIXY'}\n"
     ]
    }
   ],
   "source": [
    "zero_ops_inds = set(np.where(np.all(np.isclose(A_ns, 0), axis=1))[0])\n",
    "zero_ops = set(small_basis.normalize(basis.unrank(i)) for i in zero_ops_inds)\n",
    "nnz_opsf = small_basis._opset - zero_ops\n",
    "# zero_ops = set(basis.unrank(i) for i in zero_ops_inds)\n",
    "# nnz_ops = basis._opset - zero_ops\n",
    "# print(len(zero_ops_inds))\n",
    "# print(zero_ops)\n",
    "print(len(nnz_opsf))\n",
    "print(nnz_opsf)"
   ]
  },
  {
   "cell_type": "code",
   "execution_count": 412,
   "id": "85ae26fb",
   "metadata": {},
   "outputs": [
    {
     "name": "stdout",
     "output_type": "stream",
     "text": [
      "44\n",
      "{'IXZZX', 'IIIIZ', 'IZYYZ', 'IXIXZ', 'IIZIZ', 'IIYZY', 'IIXIX', 'IYYZZ', 'YYZZZ', 'IYZZY', 'IXYYX', 'XYYXZ', 'IYYIZ', 'IIIYY', 'YZYZZ', 'IXXIZ', 'XYXYZ', 'IZIZZ', 'IYXXY', 'XXYZY', 'XXYYZ', 'IIZZZ', 'IXZXZ', 'IIXXZ', 'IIYIY', 'XXXXZ', 'XXZZZ', 'ZZZZZ', 'IZZZZ', 'IYYYY', 'YYYYZ', 'IYZYZ', 'IIIZZ', 'IXXYY', 'IIIXX', 'IYIYZ', 'XZXZZ', 'IIIII', 'IIXZX', 'IXXXX', 'IXXZZ', 'IXYXY', 'IIYYZ', 'IZXXZ'}\n"
     ]
    }
   ],
   "source": [
    "A = beta_independent_constraints(small_basis, hamil, False)\n",
    "A_ns = null_space(A)\n",
    "zero_ops_inds = set(np.where(np.all(np.isclose(A_ns, 0), axis=1))[0])\n",
    "zero_ops = set(small_basis.unrank(i + 1) for i in zero_ops_inds)\n",
    "nnz_ops = small_basis._opset - zero_ops\n",
    "# print(len(zero_ops_inds))\n",
    "# print(zero_ops)\n",
    "print(len(nnz_ops))\n",
    "print(nnz_ops)"
   ]
  }
 ],
 "metadata": {
  "kernelspec": {
   "display_name": ".venv",
   "language": "python",
   "name": "python3"
  },
  "language_info": {
   "codemirror_mode": {
    "name": "ipython",
    "version": 3
   },
   "file_extension": ".py",
   "mimetype": "text/x-python",
   "name": "python",
   "nbconvert_exporter": "python",
   "pygments_lexer": "ipython3",
   "version": "3.12.10"
  }
 },
 "nbformat": 4,
 "nbformat_minor": 5
}
