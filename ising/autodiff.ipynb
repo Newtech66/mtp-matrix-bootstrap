{
 "cells": [
  {
   "cell_type": "markdown",
   "id": "e8d84373",
   "metadata": {},
   "source": [
    "https://arxiv.org/pdf/2502.16020\n",
    "<hr></hr>"
   ]
  },
  {
   "cell_type": "code",
   "execution_count": null,
   "id": "1958146d",
   "metadata": {},
   "outputs": [],
   "source": [
    "import jax\n",
    "jax.config.update(\"jax_enable_x64\", True)\n",
    "import jax.numpy as jnp\n",
    "import jax.scipy as jsp\n",
    "from toqito.rand import random_psd_operator"
   ]
  },
  {
   "cell_type": "code",
   "execution_count": null,
   "id": "c424bd26",
   "metadata": {},
   "outputs": [],
   "source": [
    "def sqrtm(A):\n",
    "    s = 10\n",
    "    I = jnp.eye(A.shape[0])\n",
    "    def db_iter_sqrt(X, *args):\n",
    "        X1i = jnp.linalg.inv(X[1])\n",
    "        return ((0.5 * X[0] @ (I + X1i), 0.5 * (I + 0.5 * (X[1] + X1i))), None)\n",
    "    return jax.lax.scan(db_iter_sqrt, (A, A), length=s)[0][0]\n",
    "sqrtm = jax.jit(sqrtm)\n",
    "\n",
    "def logm(A):\n",
    "    s = 30\n",
    "    Ap = sqrtm(A)\n",
    "    I = jnp.eye(A.shape[0])\n",
    "    Z0 = Ap - I\n",
    "    if s == 1:\n",
    "        return Z0\n",
    "    Ap = sqrtm(Ap)\n",
    "    def logm_iter(X, _):\n",
    "        Asqrt = sqrtm(X[0])\n",
    "        return ((Asqrt, X[1] @ (I + Asqrt)), None)\n",
    "    P = jax.lax.scan(logm_iter, (Ap, I + Ap), length=s - 2)[0][1]\n",
    "    return 2 ** s * Z0 @ jsp.linalg.inv(P)\n",
    "logm = jax.jit(logm)"
   ]
  },
  {
   "cell_type": "code",
   "execution_count": null,
   "id": "89295eaf",
   "metadata": {},
   "outputs": [],
   "source": [
    "def barrier(X):\n",
    "    \"\"\"Returns -log det X.\"\"\"\n",
    "    sign, value = jnp.linalg.slogdet(X)\n",
    "    return -sign * value\n",
    "def grad_barrier(X):\n",
    "    \"\"\"Returns -Xinv.\"\"\"\n",
    "    return -jnp.linalg.inv(X)\n",
    "def hvp(X, V):\n",
    "    return jax.jvp(grad_barrier, (X,), (V,))[1]\n",
    "hvp_jit = jax.jit(hvp)"
   ]
  },
  {
   "cell_type": "code",
   "execution_count": 52,
   "id": "39003d56",
   "metadata": {},
   "outputs": [],
   "source": [
    "def ope_barrier(Z, X, Y):\n",
    "    Xsqrt = sqrtm(X)\n",
    "    Xsqrtinv = jsp.linalg.inv(Xsqrt)\n",
    "    signlZ, lZ = jnp.linalg.slogdet(Z + Xsqrt @ logm(Xsqrtinv @ Y @ Xsqrtinv) @ Xsqrt)\n",
    "    signlX, lX = jnp.linalg.slogdet(X)\n",
    "    signlY, lY = jnp.linalg.slogdet(Y)\n",
    "    return -(signlZ * lZ + signlX * lX + signlY * lY)\n",
    "jac = jax.jacobian(ope_barrier, argnums=[0, 1, 2], holomorphic=True)\n",
    "hess = jax.hessian(ope_barrier, argnums=[0, 1, 2], holomorphic=True)\n",
    "\n",
    "ope_jit = jax.jit(ope_barrier)\n",
    "jac_jit = jax.jit(jac)\n",
    "hess_jit = jax.jit(hess)"
   ]
  },
  {
   "cell_type": "code",
   "execution_count": null,
   "id": "b944cd58",
   "metadata": {},
   "outputs": [],
   "source": [
    "L = 10\n",
    "X = random_psd_operator(L, is_real=False)\n",
    "Y = random_psd_operator(L, is_real=False)\n",
    "Z = random_psd_operator(L, is_real=False)"
   ]
  },
  {
   "cell_type": "code",
   "execution_count": 70,
   "id": "ae0b021f",
   "metadata": {},
   "outputs": [
    {
     "name": "stdout",
     "output_type": "stream",
     "text": [
      "934 µs ± 91.2 µs per loop (mean ± std. dev. of 7 runs, 10 loops each)\n"
     ]
    }
   ],
   "source": [
    "%timeit -n10 -r7 ope_jit(Z, X, Y).block_until_ready()"
   ]
  },
  {
   "cell_type": "code",
   "execution_count": 71,
   "id": "464f4325",
   "metadata": {},
   "outputs": [
    {
     "name": "stdout",
     "output_type": "stream",
     "text": [
      "2.37 ms ± 202 µs per loop (mean ± std. dev. of 7 runs, 10 loops each)\n"
     ]
    }
   ],
   "source": [
    "%timeit -n10 -r7 jac_jit(Z, X, Y)[0].block_until_ready()"
   ]
  },
  {
   "cell_type": "code",
   "execution_count": 72,
   "id": "7b0a248a",
   "metadata": {},
   "outputs": [
    {
     "name": "stdout",
     "output_type": "stream",
     "text": [
      "323 ms ± 10.9 ms per loop (mean ± std. dev. of 7 runs, 10 loops each)\n"
     ]
    }
   ],
   "source": [
    "%timeit -n10 -r7 hess_jit(Z, X, Y)[0][0].block_until_ready()"
   ]
  }
 ],
 "metadata": {
  "kernelspec": {
   "display_name": ".venv",
   "language": "python",
   "name": "python3"
  },
  "language_info": {
   "codemirror_mode": {
    "name": "ipython",
    "version": 3
   },
   "file_extension": ".py",
   "mimetype": "text/x-python",
   "name": "python",
   "nbconvert_exporter": "python",
   "pygments_lexer": "ipython3",
   "version": "3.12.10"
  }
 },
 "nbformat": 4,
 "nbformat_minor": 5
}
