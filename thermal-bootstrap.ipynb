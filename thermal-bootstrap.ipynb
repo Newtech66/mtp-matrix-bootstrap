{
 "cells": [
  {
   "cell_type": "code",
   "execution_count": 92,
   "metadata": {},
   "outputs": [],
   "source": [
    "import cvxpy as cp\n",
    "from scipy.special import roots_sh_legendre\n",
    "from scipy.sparse import csr_array\n",
    "import numpy as np\n",
    "import matplotlib.pyplot as plt"
   ]
  },
  {
   "cell_type": "code",
   "execution_count": 93,
   "metadata": {},
   "outputs": [],
   "source": [
    "class Word:\n",
    "    def __init__(self, word: str):\n",
    "        self._word = word\n",
    "    def __repr__(self):\n",
    "        return repr(self._word)\n",
    "    def H(self):\n",
    "        return Word(self._word[::-1])\n",
    "    def __hash__(self):\n",
    "        return hash(self._word)\n",
    "    def __eq__(self, other):\n",
    "        if not isinstance(other, Word):\n",
    "            return False\n",
    "        return self._word == other._word\n",
    "\n",
    "class Basis:\n",
    "    def __init__(self, ops: list[str]):\n",
    "        self._ops = ops\n",
    "        self._mapping = {op: i for i, op in enumerate(ops)}\n",
    "        self._sz = len(ops)\n",
    "    \n",
    "    def rank(self, word: Word|str):\n",
    "        if isinstance(word, Word):\n",
    "            word = word._word\n",
    "        v = self._sz ** (len(word)) - 1\n",
    "        for i, op in enumerate(reversed(word)):\n",
    "            v += self._mapping[op] * (self._sz ** i)\n",
    "        return v\n",
    "\n",
    "    def unrank(self, pos: int):\n",
    "        len = 0\n",
    "        while self._sz ** len - 1 <= pos:\n",
    "            len += 1\n",
    "        len -= 1\n",
    "        pos -= self._sz ** len - 1\n",
    "        word = [None] * len\n",
    "        for i in range(len):\n",
    "            word[i] = self._ops[pos % self._sz]\n",
    "            pos //= self._sz\n",
    "        return ''.join(word[::-1])\n",
    "\n",
    "def commutator(word1: str, word2: str):\n",
    "    expression = []\n",
    "    for i in range(len(word1)):\n",
    "        for j in range(len(word2)):\n",
    "            # 1 2 2 1\n",
    "            word = word1[:i] + word2[:j] + word2[j+1:] + word1[i+1:]\n",
    "            if word1[i] == 'x' and word2[j] == 'p':\n",
    "                expression.append('+' + word)\n",
    "            elif word1[i] == 'p' and word2[j] == 'x':\n",
    "                expression.append('-' + word)\n",
    "    return expression"
   ]
  },
  {
   "cell_type": "markdown",
   "metadata": {},
   "source": [
    "<h2>Thermal anharmonic oscillator:</h2>"
   ]
  },
  {
   "cell_type": "code",
   "execution_count": 102,
   "metadata": {},
   "outputs": [],
   "source": [
    "def canonical_relation(basis: Basis, B, word1: str, word2: str):\n",
    "    t1 = Word(word1 + 'xp' + word2)\n",
    "    t2 = Word(word1 + 'px' + word2)\n",
    "    t3 = Word(word1 + word2)\n",
    "    return [(basis.rank(t1), 1), (basis.rank(t2), -1), (basis.rank(t3), -1j)]\n",
    "    # return [B[basis.rank(t1)] - B[basis.rank(t2)] == 1j * B[basis.rank(t3)]]\n",
    "\n",
    "def schwinger_dyson(basis: Basis, B, hamil: list, word1: str):\n",
    "    # expression = 0\n",
    "    expression = []\n",
    "    for coeff, w in hamil:\n",
    "        terms = commutator(w, word1)\n",
    "        for term in terms:\n",
    "            if term[0] == '+':\n",
    "                # expression = expression + coeff * B[basis.rank(term[1:])]\n",
    "                expression.append((basis.rank(term[1:]), coeff))\n",
    "            else:\n",
    "                # expression = expression - coeff * B[basis.rank(term[1:])]\n",
    "                expression.append((basis.rank(term[1:]), -coeff))\n",
    "    # return [expression == 0]\n",
    "    return expression\n",
    "\n",
    "def normalization(B):\n",
    "    return [B[0] == 1]\n",
    "\n",
    "def reality(basis: Basis, B, word: str):\n",
    "    return [B[basis.rank(word[::-1])] == cp.conj(B[basis.rank(word)])]\n",
    "\n",
    "def schwarz(basis: Basis, B, word: str):\n",
    "    return [cp.real(B[basis.rank(word)])**2+cp.imag(B[basis.rank(word)])**2 <= cp.real(B[basis.rank(word[::-1] + word)])]\n",
    "\n",
    "def thermal_density_matrix(basis: Basis, B, L):\n",
    "    n = 2 ** (L//2 + 1) - 1\n",
    "    M = cp.bmat([[B[basis.rank(basis.unrank(i)[::-1] + basis.unrank(j))] for j in range(n)] for i in range(n)])\n",
    "    return [M >> 0]"
   ]
  },
  {
   "cell_type": "code",
   "execution_count": 103,
   "metadata": {},
   "outputs": [],
   "source": [
    "def beta_independent_constraints(basis, B, L, hamil):\n",
    "    constraints = []\n",
    "    row_ind, col_ind, data = [], [], []\n",
    "    constraints.extend(thermal_density_matrix(basis, B, L))\n",
    "    constraints.extend(normalization(B))\n",
    "    numc = 0\n",
    "    for i in range(2 ** (L - 1) - 1):\n",
    "        # terms = schwinger_dyson(basis, B, hamil, basis.unrank(i))\n",
    "        # for term in terms:\n",
    "        #     col_ind.append(term[0])\n",
    "        #     data.append(term[1])\n",
    "        #     row_ind.append(numc)\n",
    "        # numc += 1\n",
    "        for j in range(2 ** (L - 1) - 1):\n",
    "            if len(basis.unrank(i) + basis.unrank(j)) > L - 2:\n",
    "                continue\n",
    "            terms = canonical_relation(basis, B, basis.unrank(i), basis.unrank(j))\n",
    "            for term in terms:\n",
    "                col_ind.append(term[0])\n",
    "                data.append(term[1])\n",
    "                row_ind.append(numc)\n",
    "            numc += 1\n",
    "    for i in range(2 ** (L + 1) - 1):\n",
    "        constraints.extend(reality(basis, B, basis.unrank(i)))\n",
    "    # for i in range(2 ** (L//2+1) - 1):\n",
    "    #     constraints.extend(schwarz(basis, B, basis.unrank(i)))\n",
    "    P = csr_array((data, (row_ind, col_ind)), (len(col_ind), 2 ** (L + 1) - 1))\n",
    "    constraints.append(P @ B == 0)\n",
    "    return constraints\n",
    "\n",
    "def beta_independent_kms_constraints(basis, H, L, m, k, hamil):\n",
    "    n = 2 ** (L // 2) - 1\n",
    "    constraints = []\n",
    "    A = cp.bmat([[H[basis.rank(basis.unrank(i)[::-1] + basis.unrank(j))] for j in range(n)] for i in range(n)])\n",
    "    B = cp.bmat([[H[basis.rank(basis.unrank(j) + basis.unrank(i)[::-1])] for j in range(n)] for i in range(n)])\n",
    "    Ts = [cp.Variable((n,n),f'T_{i}',hermitian=True) for i in range(1, m + 1)]\n",
    "    Zs = [cp.Variable((n,n),f'Z_{i}',hermitian=True) for i in range(0, k + 1)]\n",
    "    constraints.append(Zs[0] == B)\n",
    "    ts, _ = roots_sh_legendre(m)\n",
    "    for i in range(k):\n",
    "        constraints.append(cp.bmat([[Zs[i], Zs[i+1]],\n",
    "                                    [Zs[i+1], A]]) >> 0)\n",
    "    for j in range(m):\n",
    "        constraints.append(cp.bmat([[Zs[k] - A - Ts[j], -np.sqrt(ts[j]) * Ts[j]],\n",
    "                                    [-np.sqrt(ts[j]) * Ts[j], A - ts[j] * Ts[j]]]) >> 0)\n",
    "    def get_term(i, j):\n",
    "        expression = 0\n",
    "        for coeff, w in hamil:\n",
    "            terms = commutator(w, basis.unrank(j))\n",
    "            for term in terms:\n",
    "                if term[0] == '+':\n",
    "                    expression = expression + coeff * H[basis.rank(basis.unrank(i)[::-1] + term[1:])]\n",
    "                else:\n",
    "                    expression = expression - coeff * H[basis.rank(basis.unrank(i)[::-1] + term[1:])]\n",
    "        return 1j * expression\n",
    "    C = cp.bmat([[get_term(i, j) for j in range(n)] for i in range(n)])\n",
    "    return Ts, C, constraints\n",
    "\n",
    "def beta_dependent_kms_constraints(Ts, C, m, k, beta):\n",
    "    constraints = []\n",
    "    _, ws = roots_sh_legendre(m)\n",
    "    constraints.append(sum(wj * Tj for wj,Tj in zip(ws, Ts)) == -2**(-k) * beta * C)\n",
    "    return constraints\n",
    "\n",
    "def solver(basis, B, constraints, Ts, C, m, k, beta):\n",
    "    kms_constraints = beta_dependent_kms_constraints(Ts, C, m, k, beta)\n",
    "    energy = cp.real(B[basis.rank('pp')] + B[basis.rank('xxxx')])\n",
    "    total_constraints = constraints + kms_constraints\n",
    "    minprob = cp.Problem(cp.Minimize(energy), total_constraints)\n",
    "    E_min = minprob.solve(accept_unknown=True)\n",
    "    maxprob = cp.Problem(cp.Maximize(energy), total_constraints)\n",
    "    E_max = maxprob.solve(accept_unknown=True)\n",
    "    return E_min, E_max"
   ]
  },
  {
   "cell_type": "code",
   "execution_count": 104,
   "metadata": {},
   "outputs": [],
   "source": [
    "def solve_energy(betas, L, m, k):\n",
    "    basis = Basis(['x','p'])\n",
    "    hamil = [(1, 'pp'), (1, 'xxxx')]\n",
    "    B = cp.Variable(2**(L+1) - 1, complex=True)\n",
    "    constraints = beta_independent_constraints(basis, B, L, hamil)\n",
    "    Ts, C, extra_constraints = beta_independent_kms_constraints(basis, B, L, m, k, hamil)\n",
    "    constraints.extend(extra_constraints)\n",
    "    mins,maxs = [], []\n",
    "    for beta in betas:\n",
    "        print(f'Solving for T={1/beta}:')\n",
    "        E_min, E_max = solver(basis, B, constraints, Ts, C, m, k, beta)\n",
    "        print(f'\\tE_min = {E_min}')\n",
    "        print(f'\\tE_max = {E_max}')\n",
    "        mins.append(E_min)\n",
    "        maxs.append(E_max)\n",
    "    return mins, maxs"
   ]
  },
  {
   "cell_type": "code",
   "execution_count": 105,
   "metadata": {},
   "outputs": [
    {
     "name": "stdout",
     "output_type": "stream",
     "text": [
      "Solving for T=0.1:\n"
     ]
    },
    {
     "name": "stderr",
     "output_type": "stream",
     "text": [
      "/home/mainak/mtp/my-work/.venv/lib/python3.10/site-packages/cvxpy/problems/problem.py:164: UserWarning: Constraint #0 contains too many subexpressions. Consider vectorizing your CVXPY code to speed up compilation.\n",
      "  warnings.warn(f\"Constraint #{i} contains too many subexpressions. \"\n"
     ]
    },
    {
     "name": "stdout",
     "output_type": "stream",
     "text": [
      "\tE_min = 1.0603623436802772\n",
      "\tE_max = 1.0603623932634791\n",
      "Solving for T=0.2:\n",
      "\tE_min = 1.0603631251491503\n",
      "\tE_max = 1.06036552328325\n",
      "Solving for T=0.30000000000000004:\n",
      "\tE_min = 1.0604459388371221\n",
      "\tE_max = 1.0604885533222612\n",
      "Solving for T=0.4:\n",
      "\tE_min = 1.0625224617905853\n",
      "\tE_max = 1.062827085922228\n",
      "Solving for T=0.5:\n",
      "\tE_min = 1.0705846834803756\n",
      "\tE_max = 1.07156022990887\n",
      "Solving for T=0.6:\n",
      "\tE_min = 1.0872045541424638\n",
      "\tE_max = 1.0892797412084287\n"
     ]
    }
   ],
   "source": [
    "betas = 1/np.linspace(0.1,0.6,num=6)\n",
    "mins8, maxs8 = solve_energy(betas, 8, 2, 2)"
   ]
  },
  {
   "cell_type": "code",
   "execution_count": 108,
   "metadata": {},
   "outputs": [
    {
     "data": {
      "image/png": "[encoded data removed]",
      "text/plain": [
       "<Figure size 640x480 with 1 Axes>"
      ]
     },
     "metadata": {},
     "output_type": "display_data"
    }
   ],
   "source": [
    "plt.fill_between(1/betas, mins8, maxs8, alpha = 0.5, color='blue', label='L = 8')\n",
    "plt.xlabel('T')\n",
    "plt.ylabel('E')\n",
    "plt.title('(m, k) = (2, 2) anharmonic oscillator')\n",
    "plt.legend()\n",
    "plt.show()"
   ]
  }
 ],
 "metadata": {
  "kernelspec": {
   "display_name": ".venv",
   "language": "python",
   "name": "python3"
  },
  "language_info": {
   "codemirror_mode": {
    "name": "ipython",
    "version": 3
   },
   "file_extension": ".py",
   "mimetype": "text/x-python",
   "name": "python",
   "nbconvert_exporter": "python",
   "pygments_lexer": "ipython3",
   "version": "3.10.12"
  }
 },
 "nbformat": 4,
 "nbformat_minor": 2
}
