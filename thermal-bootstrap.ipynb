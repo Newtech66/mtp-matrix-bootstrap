{
 "cells": [
  {
   "cell_type": "code",
   "execution_count": 11,
   "metadata": {},
   "outputs": [],
   "source": [
    "import cvxpy as cp\n",
    "from scipy.special import roots_sh_legendre\n",
    "import numpy as np\n",
    "import matplotlib.pyplot as plt"
   ]
  },
  {
   "cell_type": "code",
   "execution_count": 12,
   "metadata": {},
   "outputs": [],
   "source": [
    "class Word:\n",
    "    def __init__(self, word: str):\n",
    "        self._word = word\n",
    "    def __repr__(self):\n",
    "        return repr(self._word)\n",
    "    def H(self):\n",
    "        return Word(self._word[::-1])\n",
    "    def __hash__(self):\n",
    "        return hash(self._word)\n",
    "    def __eq__(self, other):\n",
    "        if not isinstance(other, Word):\n",
    "            return False\n",
    "        return self._word == other._word\n",
    "\n",
    "class TraceOp:\n",
    "    def __init__(self, word: Word):\n",
    "        self._word = word\n",
    "        self._expval = cp.Variable(1, str(self._word), complex=True)\n",
    "    def __hash__(self):\n",
    "        return hash(self._word)\n",
    "    def ev(self):\n",
    "        return self._expval\n",
    "    def conjev(self):\n",
    "        return cp.conj(self._expval)\n",
    "    def __eq__(self, other):\n",
    "        if not isinstance(other, TraceOp):\n",
    "            return False\n",
    "        return self._word == other._word\n",
    "\n",
    "TOcache = dict()\n",
    "\n",
    "def trace_op(word: Word):\n",
    "    if word not in TOcache:\n",
    "        TOcache[word] = TraceOp(word)\n",
    "    return TOcache[word]\n",
    "\n",
    "def commutator(word1: str, word2: str):\n",
    "    expression = []\n",
    "    for i in range(len(word1)):\n",
    "        for j in range(len(word2)):\n",
    "            # 1 2 2 1\n",
    "            word = word1[:i] + word2[:j] + word2[j+1:] + word1[i+1:]\n",
    "            if word1[i] == 'x' and word2[j] == 'p':\n",
    "                expression.append('+' + word)\n",
    "            elif word1[i] == 'p' and word2[j] == 'x':\n",
    "                expression.append('-' + word)\n",
    "    return expression\n",
    "\n",
    "# def commutator(word1: str, word2: str):\n",
    "#     return ['+' + word1 + word2, '-' + word2 + word1]"
   ]
  },
  {
   "cell_type": "code",
   "execution_count": 57,
   "metadata": {},
   "outputs": [
    {
     "data": {
      "text/plain": [
       "['+ppxx',\n",
       " '+ppxx',\n",
       " '+ppxx',\n",
       " '+xppx',\n",
       " '+xppx',\n",
       " '+xppx',\n",
       " '+xxpp',\n",
       " '+xxpp',\n",
       " '+xxpp']"
      ]
     },
     "execution_count": 57,
     "metadata": {},
     "output_type": "execute_result"
    }
   ],
   "source": [
    "commutator('xxx','ppp')"
   ]
  },
  {
   "cell_type": "markdown",
   "metadata": {},
   "source": [
    "<h2>Thermal anharmonic oscillator:</h2>"
   ]
  },
  {
   "cell_type": "code",
   "execution_count": 13,
   "metadata": {},
   "outputs": [],
   "source": [
    "def canonical_relation(word1: str, word2: str):\n",
    "    t1 = Word(word1 + 'xp' + word2)\n",
    "    t2 = Word(word1 + 'px' + word2)\n",
    "    t3 = Word(word1 + word2)\n",
    "    return [trace_op(t1).ev() - trace_op(t2).ev() == 1j * trace_op(t3).ev()]\n",
    "\n",
    "hamil = [(1, 'pp'), (1, 'xxxx')]\n",
    "\n",
    "def schwinger_dyson(word1: str):\n",
    "    expression = 0\n",
    "    for coeff, w in hamil:\n",
    "        terms = commutator(w, word1)\n",
    "        for term in terms:\n",
    "            if term[0] == '+':\n",
    "                expression = expression + coeff * trace_op(Word(term[1:])).ev()\n",
    "            else:\n",
    "                expression = expression - coeff * trace_op(Word(term[1:])).ev()\n",
    "    return [expression == 0]\n",
    "\n",
    "def normalization():\n",
    "    return [trace_op(Word('')).ev() == 1]\n",
    "\n",
    "def reality(word: str):\n",
    "    return [trace_op(Word(word[::-1])).ev() == trace_op(Word(word)).conjev()]\n",
    "\n",
    "def thermal_density_matrix(op_basis, L):\n",
    "    ops = [op\n",
    "           for i in range(L//2 + 1)\n",
    "           for op in op_basis[i]]\n",
    "    n = len(ops)\n",
    "    M = cp.bmat([[trace_op(Word(ops[i][::-1] + ops[j])).ev() for j in range(n)] for i in range(n)])\n",
    "    return [M >> 0]"
   ]
  },
  {
   "cell_type": "code",
   "execution_count": 14,
   "metadata": {},
   "outputs": [],
   "source": [
    "def A_matrix(ops):\n",
    "    n = len(ops)\n",
    "    A = cp.bmat([[trace_op(Word(ops[i][::-1] + ops[j])).ev() for j in range(n)] for i in range(n)])\n",
    "    return A\n",
    "\n",
    "def B_matrix(ops):\n",
    "    n = len(ops)\n",
    "    B = cp.bmat([[trace_op(Word(ops[j] + ops[i][::-1])).ev() for j in range(n)] for i in range(n)])\n",
    "    return B\n",
    "\n",
    "def C_matrix(ops):\n",
    "    n = len(ops)\n",
    "    def get_term(i,j):\n",
    "        expression = 0\n",
    "        for coeff, w in hamil:\n",
    "            terms = commutator(w, ops[j])\n",
    "            for term in terms:\n",
    "                if term[0] == '+':\n",
    "                    expression = expression + coeff * trace_op(Word(ops[i][::-1] + term[1:])).ev()\n",
    "                else:\n",
    "                    expression = expression - coeff * trace_op(Word(ops[i][::-1] + term[1:])).ev()\n",
    "        return 1j * expression\n",
    "    C = cp.bmat([[get_term(i,j) for j in range(n)] for i in range(n)])\n",
    "    return C\n",
    "\n",
    "def kms_condition(op_basis, L, m, k, beta):\n",
    "    ops = [op\n",
    "           for i in range(L//2 - 1)\n",
    "           for op in op_basis[i]]\n",
    "    n = len(ops)\n",
    "    constraints = []\n",
    "    A = A_matrix(ops)\n",
    "    B = B_matrix(ops)\n",
    "    C = C_matrix(ops)\n",
    "    Ts = [cp.Variable((n,n),f'T_{i}',hermitian=True) for i in range(1, m + 1)]\n",
    "    Zs = [cp.Variable((n,n),f'Z_{i}',hermitian=True) for i in range(0, k + 1)]\n",
    "    constraints.append(Zs[0] == B)\n",
    "    ts, ws = roots_sh_legendre(m)\n",
    "    constraints.append(sum(wj * Tj for wj,Tj in zip(ws, Ts)) == -2**(-k) * beta * C)\n",
    "    for i in range(k):\n",
    "        constraints.append(cp.bmat([[Zs[i], Zs[i+1]],\n",
    "                                    [Zs[i+1], A]]) >> 0)\n",
    "    for j in range(m):\n",
    "        constraints.append(cp.bmat([[Zs[k] - A - Ts[j], -np.sqrt(ts[j]) * Ts[j]],\n",
    "                                    [-np.sqrt(ts[j]) * Ts[j], A - ts[j] * Ts[j]]]) >> 0)\n",
    "    return constraints"
   ]
  },
  {
   "cell_type": "code",
   "execution_count": 15,
   "metadata": {},
   "outputs": [],
   "source": [
    "from itertools import product\n",
    "L = 10\n",
    "m, k = 2, 2\n",
    "beta = 2\n",
    "op_basis = [[] for _ in range(L + 1)]\n",
    "basis = ['x','p']\n",
    "for l,v in enumerate(op_basis):\n",
    "    v.extend(''.join(s) for s in product(basis,repeat=l))"
   ]
  },
  {
   "cell_type": "code",
   "execution_count": 23,
   "metadata": {},
   "outputs": [],
   "source": [
    "constraints = []\n",
    "constraints.extend(thermal_density_matrix(op_basis, L))\n",
    "constraints.extend(normalization())\n",
    "constraints.extend(kms_condition(op_basis, L, m, k, beta))\n",
    "ops_Lm2 = [op\n",
    "           for i in range(L - 1)\n",
    "           for op in op_basis[i]]\n",
    "for op1 in ops_Lm2:\n",
    "    for op2 in ops_Lm2:\n",
    "        if len(op1 + op2) > L - 2:\n",
    "            continue\n",
    "        constraints.extend(canonical_relation(op1,op2))\n",
    "for op in ops_Lm2:\n",
    "    expression = schwinger_dyson(op)\n",
    "    if isinstance(expression, bool):\n",
    "        continue\n",
    "    constraints.extend(expression)\n",
    "for op_L in op_basis:\n",
    "    for word in op_L:\n",
    "        constraints.extend(reality(word))"
   ]
  },
  {
   "cell_type": "code",
   "execution_count": 24,
   "metadata": {},
   "outputs": [],
   "source": [
    "minobj = cp.Minimize(cp.real(trace_op(Word('pp')).ev() + trace_op(Word('xxxx')).ev()))\n",
    "maxobj = cp.Maximize(cp.real(trace_op(Word('pp')).ev() + trace_op(Word('xxxx')).ev()))\n",
    "minprob = cp.Problem(minobj, constraints)\n",
    "maxprob = cp.Problem(maxobj, constraints)"
   ]
  },
  {
   "cell_type": "code",
   "execution_count": 25,
   "metadata": {},
   "outputs": [
    {
     "name": "stdout",
     "output_type": "stream",
     "text": [
      "===============================================================================\n",
      "                                     CVXPY                                     \n",
      "                                     v1.5.3                                    \n",
      "===============================================================================\n",
      "(CVXPY) Oct 15 07:46:28 PM: Your problem has 3172 variables, 14675 constraints, and 0 parameters.\n",
      "(CVXPY) Oct 15 07:46:29 PM: It is compliant with the following grammars: DCP, DQCP\n",
      "(CVXPY) Oct 15 07:46:29 PM: (If you need to solve this problem multiple times, but with different data, consider using parameters.)\n",
      "(CVXPY) Oct 15 07:46:29 PM: CVXPY will first compile your problem; then, it will invoke a numerical solver to obtain a solution.\n",
      "(CVXPY) Oct 15 07:46:29 PM: Your problem is compiled with the CPP canonicalization backend.\n",
      "-------------------------------------------------------------------------------\n",
      "                                  Compilation                                  \n",
      "-------------------------------------------------------------------------------\n",
      "(CVXPY) Oct 15 07:46:30 PM: Compiling problem (target solver=MOSEK).\n",
      "(CVXPY) Oct 15 07:46:30 PM: Reduction chain: Complex2Real -> Dcp2Cone -> CvxAttr2Constr -> ConeMatrixStuffing -> MOSEK\n",
      "(CVXPY) Oct 15 07:46:30 PM: Applying reduction Complex2Real\n",
      "(CVXPY) Oct 15 07:46:33 PM: Applying reduction Dcp2Cone\n"
     ]
    },
    {
     "name": "stderr",
     "output_type": "stream",
     "text": [
      "/home/mainak/mtp/my-work/.venv/lib/python3.10/site-packages/cvxpy/problems/problem.py:164: UserWarning: Constraint #0 contains too many subexpressions. Consider vectorizing your CVXPY code to speed up compilation.\n",
      "  warnings.warn(f\"Constraint #{i} contains too many subexpressions. \"\n"
     ]
    },
    {
     "name": "stdout",
     "output_type": "stream",
     "text": [
      "(CVXPY) Oct 15 07:46:38 PM: Applying reduction CvxAttr2Constr\n",
      "(CVXPY) Oct 15 07:46:41 PM: Applying reduction ConeMatrixStuffing\n",
      "(CVXPY) Oct 15 07:46:49 PM: Applying reduction MOSEK\n",
      "(CVXPY) Oct 15 07:46:55 PM: Finished problem compilation (took 2.593e+01 seconds).\n",
      "-------------------------------------------------------------------------------\n",
      "                                Numerical solver                               \n",
      "-------------------------------------------------------------------------------\n",
      "(CVXPY) Oct 15 07:46:55 PM: Invoking solver MOSEK  to obtain a solution.\n",
      "\n",
      "\n",
      "(CVXPY) Oct 15 07:46:55 PM: Problem\n",
      "(CVXPY) Oct 15 07:46:55 PM:   Name                   :                 \n",
      "(CVXPY) Oct 15 07:46:55 PM:   Objective sense        : maximize        \n",
      "(CVXPY) Oct 15 07:46:55 PM:   Type                   : CONIC (conic optimization problem)\n",
      "(CVXPY) Oct 15 07:46:55 PM:   Constraints            : 5219            \n",
      "(CVXPY) Oct 15 07:46:55 PM:   Affine conic cons.     : 0               \n",
      "(CVXPY) Oct 15 07:46:55 PM:   Disjunctive cons.      : 0               \n",
      "(CVXPY) Oct 15 07:46:55 PM:   Cones                  : 0               \n",
      "(CVXPY) Oct 15 07:46:55 PM:   Scalar variables       : 14211           \n",
      "(CVXPY) Oct 15 07:46:55 PM:   Matrix variables       : 5 (scalarized: 15321)\n",
      "(CVXPY) Oct 15 07:46:55 PM:   Integer variables      : 0               \n",
      "(CVXPY) Oct 15 07:46:55 PM: \n",
      "(CVXPY) Oct 15 07:46:55 PM: Optimizer started.\n",
      "(CVXPY) Oct 15 07:46:55 PM: Presolve started.\n",
      "(CVXPY) Oct 15 07:46:55 PM: Linear dependency checker started.\n",
      "(CVXPY) Oct 15 07:46:55 PM: Linear dependency checker terminated.\n",
      "(CVXPY) Oct 15 07:46:55 PM: Eliminator started.\n",
      "(CVXPY) Oct 15 07:46:55 PM: Freed constraints in eliminator : 0\n",
      "(CVXPY) Oct 15 07:46:55 PM: Eliminator terminated.\n",
      "(CVXPY) Oct 15 07:46:55 PM: Eliminator started.\n",
      "(CVXPY) Oct 15 07:46:55 PM: Freed constraints in eliminator : 0\n",
      "(CVXPY) Oct 15 07:46:55 PM: Eliminator terminated.\n",
      "(CVXPY) Oct 15 07:46:55 PM: Eliminator - tries                  : 2                 time                   : 0.00            \n",
      "(CVXPY) Oct 15 07:46:55 PM: Lin. dep.  - tries                  : 1                 time                   : 0.01            \n",
      "(CVXPY) Oct 15 07:46:55 PM: Lin. dep.  - primal attempts        : 1                 successes              : 1               \n",
      "(CVXPY) Oct 15 07:46:55 PM: Lin. dep.  - dual attempts          : 0                 successes              : 0               \n",
      "(CVXPY) Oct 15 07:46:55 PM: Lin. dep.  - primal deps.           : 0                 dual deps.             : 0               \n",
      "(CVXPY) Oct 15 07:46:55 PM: Presolve terminated. Time: 0.04    \n",
      "(CVXPY) Oct 15 07:46:57 PM: GP based matrix reordering started.\n",
      "(CVXPY) Oct 15 07:46:57 PM: GP based matrix reordering terminated.\n",
      "(CVXPY) Oct 15 07:46:58 PM: Optimizer  - threads                : 4               \n",
      "(CVXPY) Oct 15 07:46:58 PM: Optimizer  - solved problem         : the primal      \n",
      "(CVXPY) Oct 15 07:46:58 PM: Optimizer  - Constraints            : 5094            \n",
      "(CVXPY) Oct 15 07:46:58 PM: Optimizer  - Cones                  : 1               \n",
      "(CVXPY) Oct 15 07:46:58 PM: Optimizer  - Scalar variables       : 11913             conic                  : 11913           \n",
      "(CVXPY) Oct 15 07:46:58 PM: Optimizer  - Semi-definite variables: 5                 scalarized             : 15321           \n",
      "(CVXPY) Oct 15 07:46:58 PM: Factor     - setup time             : 2.78            \n",
      "(CVXPY) Oct 15 07:46:58 PM: Factor     - dense det. time        : 0.93              GP order time          : 0.06            \n",
      "(CVXPY) Oct 15 07:46:58 PM: Factor     - nonzeros before factor : 8.47e+06          after factor           : 8.69e+06        \n",
      "(CVXPY) Oct 15 07:46:58 PM: Factor     - dense dim.             : 2                 flops                  : 2.22e+10        \n",
      "(CVXPY) Oct 15 07:46:58 PM: Factor     - GP saved nzs           : 3.62e+04          GP saved flops         : 4.04e+07        \n",
      "(CVXPY) Oct 15 07:46:58 PM: ITE PFEAS    DFEAS    GFEAS    PRSTATUS   POBJ              DOBJ              MU       TIME  \n",
      "(CVXPY) Oct 15 07:46:58 PM: 0   6.0e+00  1.0e+00  1.0e+00  0.00e+00   -0.000000000e+00  -0.000000000e+00  1.0e+00  2.86  \n",
      "(CVXPY) Oct 15 07:46:59 PM: 1   4.3e+00  7.2e-01  6.5e-01  1.02e+00   1.460853077e-01   9.432109929e-02   7.2e-01  4.05  \n",
      "(CVXPY) Oct 15 07:47:00 PM: 2   1.7e+00  2.8e-01  5.0e-01  -5.07e-01  1.943905044e+00   -8.112013310e-02  2.8e-01  4.91  \n",
      "(CVXPY) Oct 15 07:47:01 PM: 3   3.7e-01  6.2e-02  1.6e-01  -5.67e-01  6.001068895e+00   1.961518887e-01   6.2e-02  5.82  \n",
      "(CVXPY) Oct 15 07:47:01 PM: 4   5.5e-02  9.1e-03  3.0e-02  -6.11e-01  1.127283165e+01   7.406517074e-01   9.1e-03  6.71  \n",
      "(CVXPY) Oct 15 07:47:02 PM: 5   6.0e-03  1.0e-03  4.7e-04  4.93e-01   1.300765263e+00   1.119610768e+00   1.0e-03  7.69  \n",
      "(CVXPY) Oct 15 07:47:03 PM: 6   1.9e-03  3.2e-04  1.2e-04  1.29e+00   1.206548085e+00   1.079875349e+00   3.2e-04  8.51  \n",
      "(CVXPY) Oct 15 07:47:04 PM: 7   2.6e-04  4.4e-05  6.7e-06  1.22e+00   1.094991069e+00   1.072980047e+00   4.4e-05  9.54  \n",
      "(CVXPY) Oct 15 07:47:05 PM: 8   3.9e-05  6.6e-06  3.0e-07  1.12e+00   1.072819030e+00   1.070848173e+00   6.6e-06  10.69 \n",
      "(CVXPY) Oct 15 07:47:06 PM: 9   2.9e-05  4.8e-06  1.9e-07  1.25e+00   1.072290260e+00   1.070862200e+00   4.8e-06  11.48 \n",
      "(CVXPY) Oct 15 07:47:07 PM: 10  3.9e-06  6.5e-07  8.8e-09  1.27e+00   1.071040564e+00   1.070868255e+00   6.5e-07  12.40 \n",
      "(CVXPY) Oct 15 07:47:08 PM: 11  1.9e-07  3.1e-08  6.6e-11  1.14e+00   1.070788377e+00   1.070784458e+00   3.3e-08  13.37 \n",
      "(CVXPY) Oct 15 07:47:09 PM: 12  1.5e-08  1.5e-09  7.7e-13  1.00e+00   1.070611817e+00   1.070611554e+00   1.6e-09  14.31 \n",
      "(CVXPY) Oct 15 07:47:13 PM: 13  1.1e-08  1.6e-09  5.0e-13  1.00e+00   1.070605817e+00   1.070605615e+00   1.2e-09  18.10 \n",
      "(CVXPY) Oct 15 07:47:14 PM: 14  7.4e-09  1.2e-08  1.5e-13  1.00e+00   1.070598584e+00   1.070598489e+00   5.0e-10  19.11 \n",
      "(CVXPY) Oct 15 07:47:15 PM: 15  7.0e-09  1.1e-08  1.4e-13  1.00e+00   1.070598548e+00   1.070598453e+00   5.0e-10  20.02 \n",
      "(CVXPY) Oct 15 07:47:16 PM: 16  7.0e-09  1.1e-08  1.4e-13  1.00e+00   1.070598529e+00   1.070598434e+00   5.0e-10  20.95 \n",
      "(CVXPY) Oct 15 07:47:17 PM: 17  7.0e-09  1.1e-08  1.4e-13  1.00e+00   1.070598510e+00   1.070598416e+00   4.9e-10  21.88 \n",
      "(CVXPY) Oct 15 07:47:18 PM: 18  7.0e-09  1.1e-08  1.4e-13  1.00e+00   1.070598510e+00   1.070598416e+00   4.9e-10  22.89 \n",
      "(CVXPY) Oct 15 07:47:19 PM: 19  7.0e-09  1.1e-08  1.4e-13  1.00e+00   1.070598510e+00   1.070598416e+00   4.9e-10  23.94 \n",
      "(CVXPY) Oct 15 07:47:20 PM: 20  7.0e-09  1.1e-08  1.4e-13  1.00e+00   1.070598506e+00   1.070598412e+00   4.9e-10  24.86 \n",
      "(CVXPY) Oct 15 07:47:21 PM: Optimizer terminated. Time: 25.90   \n",
      "(CVXPY) Oct 15 07:47:21 PM: \n",
      "(CVXPY) Oct 15 07:47:21 PM: \n",
      "(CVXPY) Oct 15 07:47:21 PM: Interior-point solution summary\n",
      "(CVXPY) Oct 15 07:47:21 PM:   Problem status  : PRIMAL_AND_DUAL_FEASIBLE\n",
      "(CVXPY) Oct 15 07:47:21 PM:   Solution status : OPTIMAL\n",
      "(CVXPY) Oct 15 07:47:21 PM:   Primal.  obj: 1.0705985061e+00    nrm: 6e+01    Viol.  con: 1e-06    var: 0e+00    barvar: 0e+00  \n",
      "(CVXPY) Oct 15 07:47:21 PM:   Dual.    obj: 1.0705984124e+00    nrm: 4e+02    Viol.  con: 0e+00    var: 7e-09    barvar: 2e-07  \n",
      "-------------------------------------------------------------------------------\n",
      "                                    Summary                                    \n",
      "-------------------------------------------------------------------------------\n",
      "(CVXPY) Oct 15 07:47:21 PM: Problem status: optimal\n",
      "(CVXPY) Oct 15 07:47:21 PM: Optimal value: 1.071e+00\n",
      "(CVXPY) Oct 15 07:47:21 PM: Compilation took 2.593e+01 seconds\n",
      "(CVXPY) Oct 15 07:47:21 PM: Solver (including time spent in interface) took 2.600e+01 seconds\n"
     ]
    },
    {
     "data": {
      "text/plain": [
       "1.0705984124353616"
      ]
     },
     "execution_count": 25,
     "metadata": {},
     "output_type": "execute_result"
    }
   ],
   "source": [
    "minprob.solve(verbose=True)"
   ]
  },
  {
   "cell_type": "code",
   "execution_count": 31,
   "metadata": {},
   "outputs": [],
   "source": [
    "def create_constraints(op_basis, L, m, k, beta):\n",
    "    constraints = []\n",
    "    constraints.extend(thermal_density_matrix(op_basis, L))\n",
    "    constraints.extend(normalization())\n",
    "    constraints.extend(kms_condition(op_basis, L, m, k, beta))\n",
    "    ops_Lm2 = [op\n",
    "            for i in range(L - 1)\n",
    "            for op in op_basis[i]]\n",
    "    for op1 in ops_Lm2:\n",
    "        for op2 in ops_Lm2:\n",
    "            if len(op1 + op2) > L - 2:\n",
    "                continue\n",
    "            constraints.extend(canonical_relation(op1,op2))\n",
    "    for op in ops_Lm2:\n",
    "        expression = schwinger_dyson(op)\n",
    "        if isinstance(expression, bool):\n",
    "            continue\n",
    "        constraints.extend(expression)\n",
    "    for op_L in op_basis:\n",
    "        for word in op_L:\n",
    "            constraints.extend(reality(word))\n",
    "    return constraints"
   ]
  },
  {
   "cell_type": "code",
   "execution_count": 32,
   "metadata": {},
   "outputs": [
    {
     "name": "stdout",
     "output_type": "stream",
     "text": [
      "Solving for T = 0.1:\n",
      "\n"
     ]
    },
    {
     "name": "stderr",
     "output_type": "stream",
     "text": [
      "/home/mainak/mtp/my-work/.venv/lib/python3.10/site-packages/cvxpy/problems/problem.py:164: UserWarning: Constraint #0 contains too many subexpressions. Consider vectorizing your CVXPY code to speed up compilation.\n",
      "  warnings.warn(f\"Constraint #{i} contains too many subexpressions. \"\n"
     ]
    },
    {
     "name": "stdout",
     "output_type": "stream",
     "text": [
      "\tE_min = 1.0603622129901589\n",
      "\n",
      "\tE_max = 1.0603622312487573\n",
      "\n",
      "Solving for T = 0.2:\n",
      "\n",
      "\tE_min = 1.060362795565853\n",
      "\n",
      "\tE_max = 1.06036321639006\n",
      "\n",
      "Solving for T = 0.30000000000000004:\n",
      "\n",
      "\tE_min = 1.0604466046372747\n",
      "\n",
      "\tE_max = 1.0604644094183173\n",
      "\n",
      "Solving for T = 0.4:\n",
      "\n",
      "\tE_min = 1.0625294381925832\n",
      "\n",
      "\tE_max = 1.0627780478038806\n",
      "\n",
      "Solving for T = 0.5:\n",
      "\n",
      "\tE_min = 1.0705984124353616\n",
      "\n",
      "\tE_max = 1.071535469686481\n",
      "\n",
      "Solving for T = 0.6:\n",
      "\n",
      "\tE_min = 1.0872218533316644\n",
      "\n",
      "\tE_max = 1.0892648419175581\n",
      "\n"
     ]
    }
   ],
   "source": [
    "betas = 1/np.linspace(0.1,0.6,num=6)\n",
    "mins,maxs = [], []\n",
    "for beta in betas:\n",
    "    print(f'Solving for T = {1/beta}:\\n')\n",
    "    constraints = create_constraints(op_basis, L, m, k, beta)\n",
    "    minobj = cp.Minimize(cp.real(trace_op(Word('pp')).ev() + trace_op(Word('xxxx')).ev()))\n",
    "    maxobj = cp.Maximize(cp.real(trace_op(Word('pp')).ev() + trace_op(Word('xxxx')).ev()))\n",
    "    minprob = cp.Problem(minobj, constraints)\n",
    "    maxprob = cp.Problem(maxobj, constraints)\n",
    "    minval = minprob.solve()\n",
    "    print(f'\\tE_min = {minval}\\n')\n",
    "    maxval = maxprob.solve()\n",
    "    print(f'\\tE_max = {maxval}\\n')\n",
    "    mins.append(minval)\n",
    "    maxs.append(maxval)"
   ]
  },
  {
   "cell_type": "code",
   "execution_count": 41,
   "metadata": {},
   "outputs": [
    {
     "data": {
      "image/png": "[encoded data removed]",
      "text/plain": [
       "<Figure size 640x480 with 1 Axes>"
      ]
     },
     "metadata": {},
     "output_type": "display_data"
    }
   ],
   "source": [
    "plt.fill_between(1/betas, mins, maxs, alpha = 0.5)\n",
    "plt.scatter(1/betas, mins, c='red',label='mins',s=10)\n",
    "plt.scatter(1/betas, maxs, c='green',label='maxs',s=10)\n",
    "plt.xlabel('T')\n",
    "plt.ylabel('E')\n",
    "plt.title('(m,k) = (2,2) anharmonic oscillator')\n",
    "plt.legend()\n",
    "plt.show()"
   ]
  }
 ],
 "metadata": {
  "kernelspec": {
   "display_name": ".venv",
   "language": "python",
   "name": "python3"
  },
  "language_info": {
   "codemirror_mode": {
    "name": "ipython",
    "version": 3
   },
   "file_extension": ".py",
   "mimetype": "text/x-python",
   "name": "python",
   "nbconvert_exporter": "python",
   "pygments_lexer": "ipython3",
   "version": "3.10.12"
  }
 },
 "nbformat": 4,
 "nbformat_minor": 2
}
